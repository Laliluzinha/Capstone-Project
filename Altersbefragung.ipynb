{
 "cells": [
  {
   "cell_type": "markdown",
   "id": "5c1d2935-94f8-42cf-be73-16d8fbab8159",
   "metadata": {},
   "source": [
    "# Proposal Capstone Project\n"
   ]
  },
  {
   "cell_type": "markdown",
   "id": "1f1873e4-cf13-4d00-8539-c61994b8a3bd",
   "metadata": {
    "tags": []
   },
   "source": [
    "## 1) The problem\n",
    "Provide a non-technical but sufficiently clear formulation of your problem\n",
    "\n",
    "- What is the wider context of your problem and what story you would like to tell with the data?\n",
    "- What problem would you like to address?"
   ]
  },
  {
   "cell_type": "code",
   "execution_count": null,
   "id": "d7890b8c-7be2-4f8f-99f7-2f960f42d451",
   "metadata": {},
   "outputs": [],
   "source": []
  },
  {
   "cell_type": "markdown",
   "id": "04b0ed84-6fdc-49ef-a693-355304c9c8ed",
   "metadata": {},
   "source": [
    "## 2) The Data\n",
    "\n",
    "- Source and context of the dataset, provide the relevant links\n",
    "- A small sample of the entries, features, values\n",
    "- Number of features and samples\n",
    "- Explain what information is conveyed by the different features\n",
    "- Granularity/details of the data\n",
    " -Quality of the data: missing, incorrect values, data completeness\n",
    "- If your are collecting the data yourself (ex. web scraping, personal recordings) or don’t have access to the full data yet, please provide already a - - - representative sample"
   ]
  },
  {
   "cell_type": "markdown",
   "id": "c912373b-828d-4661-9c33-313f279dd9ca",
   "metadata": {},
   "source": [
    "b) Discuss your plan for\n",
    "\n",
    "- Managing your data ex. storing, file formats, database usage\n",
    "- Data cleaning and data manipulation\n",
    "- Feature engineering\n",
    "- If you are combining multiple datasets please comment on the following\n",
    "- How do you plan to combine the datasets\n",
    "- Compatibility of the different datasets: encodings, standards, units, etc.\n",
    "- The features you will select from each dataset"
   ]
  },
  {
   "cell_type": "markdown",
   "id": "21b2c3f0-7f66-46f5-8b7d-a5d2862d75f3",
   "metadata": {},
   "source": [
    "## 3) Exploratory Data Analysis (EDA)\n",
    "\n",
    "a) Include a preliminary EDA\n",
    "\n",
    "- Provide descriptive statistics and informative plots on your features\n",
    "- Explore relationships amongst the features themselves and with the target\n",
    "- Check for missing values and outliers\n",
    "\n",
    "b) Discuss how the EDA informs your project plan\n",
    "\n",
    "- What interesting patterns do you observe in the data? What problems do you identify?\n",
    "- What insight can you gain to inform your data processing and your modeling?\n",
    "- Clearly state your observations and discuss their impact on your project\n",
    "- Discuss possible approaches and your resulting decisions for the project plan\n",
    "c) Based on this preliminary EDA, you should\n",
    "\n",
    "- Outline your plan for further EDA in the project"
   ]
  },
  {
   "cell_type": "markdown",
   "id": "90da6410-b46c-4a80-850c-ba604cac0b6a",
   "metadata": {},
   "source": [
    "#### Load data from the survey 'Altersbefragung' in Zurich from 2023:"
   ]
  },
  {
   "cell_type": "code",
   "execution_count": 2,
   "id": "7f2b643b-f989-44f4-8333-2a539c5499bb",
   "metadata": {},
   "outputs": [
    {
     "data": {
      "text/html": [
       "<div>\n",
       "<style scoped>\n",
       "    .dataframe tbody tr th:only-of-type {\n",
       "        vertical-align: middle;\n",
       "    }\n",
       "\n",
       "    .dataframe tbody tr th {\n",
       "        vertical-align: top;\n",
       "    }\n",
       "\n",
       "    .dataframe thead th {\n",
       "        text-align: right;\n",
       "    }\n",
       "</style>\n",
       "<table border=\"1\" class=\"dataframe\">\n",
       "  <thead>\n",
       "    <tr style=\"text-align: right;\">\n",
       "      <th></th>\n",
       "      <th>F01</th>\n",
       "      <th>F03</th>\n",
       "      <th>F06</th>\n",
       "      <th>F0701</th>\n",
       "      <th>F0702</th>\n",
       "      <th>F0703</th>\n",
       "      <th>F0704</th>\n",
       "      <th>F0901</th>\n",
       "      <th>F0902</th>\n",
       "      <th>F0903</th>\n",
       "      <th>...</th>\n",
       "      <th>S08_7</th>\n",
       "      <th>S08_8</th>\n",
       "      <th>S08_9</th>\n",
       "      <th>S08_10</th>\n",
       "      <th>S08_11</th>\n",
       "      <th>S08_12</th>\n",
       "      <th>K_SCHICHT</th>\n",
       "      <th>K_KREIS</th>\n",
       "      <th>K_GESCHLECHT</th>\n",
       "      <th>GEWICHT</th>\n",
       "    </tr>\n",
       "  </thead>\n",
       "  <tbody>\n",
       "    <tr>\n",
       "      <th>0</th>\n",
       "      <td>4</td>\n",
       "      <td>2</td>\n",
       "      <td>2.0</td>\n",
       "      <td>4.0</td>\n",
       "      <td>4.0</td>\n",
       "      <td>4.0</td>\n",
       "      <td>4.0</td>\n",
       "      <td>4.0</td>\n",
       "      <td>4.0</td>\n",
       "      <td>4.0</td>\n",
       "      <td>...</td>\n",
       "      <td>1</td>\n",
       "      <td>0</td>\n",
       "      <td>0</td>\n",
       "      <td>0</td>\n",
       "      <td>0</td>\n",
       "      <td>0</td>\n",
       "      <td>77</td>\n",
       "      <td>3</td>\n",
       "      <td>2</td>\n",
       "      <td>24.8000</td>\n",
       "    </tr>\n",
       "    <tr>\n",
       "      <th>1</th>\n",
       "      <td>4</td>\n",
       "      <td>1</td>\n",
       "      <td>1.0</td>\n",
       "      <td>4.0</td>\n",
       "      <td>4.0</td>\n",
       "      <td>4.0</td>\n",
       "      <td>4.0</td>\n",
       "      <td>NaN</td>\n",
       "      <td>3.0</td>\n",
       "      <td>3.0</td>\n",
       "      <td>...</td>\n",
       "      <td>0</td>\n",
       "      <td>0</td>\n",
       "      <td>0</td>\n",
       "      <td>0</td>\n",
       "      <td>0</td>\n",
       "      <td>1</td>\n",
       "      <td>70</td>\n",
       "      <td>10</td>\n",
       "      <td>2</td>\n",
       "      <td>23.9694</td>\n",
       "    </tr>\n",
       "    <tr>\n",
       "      <th>2</th>\n",
       "      <td>2</td>\n",
       "      <td>1</td>\n",
       "      <td>2.0</td>\n",
       "      <td>4.0</td>\n",
       "      <td>3.0</td>\n",
       "      <td>3.0</td>\n",
       "      <td>4.0</td>\n",
       "      <td>3.0</td>\n",
       "      <td>4.0</td>\n",
       "      <td>4.0</td>\n",
       "      <td>...</td>\n",
       "      <td>0</td>\n",
       "      <td>0</td>\n",
       "      <td>0</td>\n",
       "      <td>0</td>\n",
       "      <td>0</td>\n",
       "      <td>1</td>\n",
       "      <td>16</td>\n",
       "      <td>9</td>\n",
       "      <td>1</td>\n",
       "      <td>28.5568</td>\n",
       "    </tr>\n",
       "    <tr>\n",
       "      <th>3</th>\n",
       "      <td>4</td>\n",
       "      <td>1</td>\n",
       "      <td>2.0</td>\n",
       "      <td>1.0</td>\n",
       "      <td>NaN</td>\n",
       "      <td>NaN</td>\n",
       "      <td>NaN</td>\n",
       "      <td>3.0</td>\n",
       "      <td>4.0</td>\n",
       "      <td>4.0</td>\n",
       "      <td>...</td>\n",
       "      <td>0</td>\n",
       "      <td>0</td>\n",
       "      <td>0</td>\n",
       "      <td>0</td>\n",
       "      <td>0</td>\n",
       "      <td>1</td>\n",
       "      <td>16</td>\n",
       "      <td>9</td>\n",
       "      <td>1</td>\n",
       "      <td>28.5568</td>\n",
       "    </tr>\n",
       "    <tr>\n",
       "      <th>4</th>\n",
       "      <td>2</td>\n",
       "      <td>4</td>\n",
       "      <td>1.0</td>\n",
       "      <td>NaN</td>\n",
       "      <td>3.0</td>\n",
       "      <td>NaN</td>\n",
       "      <td>4.0</td>\n",
       "      <td>3.0</td>\n",
       "      <td>1.0</td>\n",
       "      <td>3.0</td>\n",
       "      <td>...</td>\n",
       "      <td>0</td>\n",
       "      <td>0</td>\n",
       "      <td>0</td>\n",
       "      <td>0</td>\n",
       "      <td>0</td>\n",
       "      <td>1</td>\n",
       "      <td>35</td>\n",
       "      <td>8</td>\n",
       "      <td>1</td>\n",
       "      <td>30.9259</td>\n",
       "    </tr>\n",
       "  </tbody>\n",
       "</table>\n",
       "<p>5 rows × 211 columns</p>\n",
       "</div>"
      ],
      "text/plain": [
       "   F01  F03  F06  F0701  F0702  F0703  F0704  F0901  F0902  F0903  ...  S08_7  \\\n",
       "0    4    2  2.0    4.0    4.0    4.0    4.0    4.0    4.0    4.0  ...      1   \n",
       "1    4    1  1.0    4.0    4.0    4.0    4.0    NaN    3.0    3.0  ...      0   \n",
       "2    2    1  2.0    4.0    3.0    3.0    4.0    3.0    4.0    4.0  ...      0   \n",
       "3    4    1  2.0    1.0    NaN    NaN    NaN    3.0    4.0    4.0  ...      0   \n",
       "4    2    4  1.0    NaN    3.0    NaN    4.0    3.0    1.0    3.0  ...      0   \n",
       "\n",
       "   S08_8  S08_9  S08_10  S08_11  S08_12  K_SCHICHT  K_KREIS  K_GESCHLECHT  \\\n",
       "0      0      0       0       0       0         77        3             2   \n",
       "1      0      0       0       0       1         70       10             2   \n",
       "2      0      0       0       0       1         16        9             1   \n",
       "3      0      0       0       0       1         16        9             1   \n",
       "4      0      0       0       0       1         35        8             1   \n",
       "\n",
       "   GEWICHT  \n",
       "0  24.8000  \n",
       "1  23.9694  \n",
       "2  28.5568  \n",
       "3  28.5568  \n",
       "4  30.9259  \n",
       "\n",
       "[5 rows x 211 columns]"
      ]
     },
     "execution_count": 2,
     "metadata": {},
     "output_type": "execute_result"
    }
   ],
   "source": [
    "age_df = pd.read_csv('altersbefragung_ogd.csv')\n",
    "age_df.head()"
   ]
  },
  {
   "cell_type": "code",
   "execution_count": 3,
   "id": "d0758d8c-a96e-46cc-bf9d-15a4f3dff088",
   "metadata": {},
   "outputs": [
    {
     "data": {
      "text/plain": [
       "(2449, 211)"
      ]
     },
     "execution_count": 3,
     "metadata": {},
     "output_type": "execute_result"
    }
   ],
   "source": [
    "# Number of surveys\n",
    "age_df.shape"
   ]
  },
  {
   "cell_type": "code",
   "execution_count": 7,
   "id": "ef9b1077-2180-4b5e-bc73-3831ebf43cca",
   "metadata": {},
   "outputs": [
    {
     "data": {
      "text/plain": [
       "F01               0\n",
       "F03               0\n",
       "F06             271\n",
       "F0701           308\n",
       "F0702           394\n",
       "               ... \n",
       "S08_12            0\n",
       "K_SCHICHT         0\n",
       "K_KREIS           0\n",
       "K_GESCHLECHT      0\n",
       "GEWICHT           0\n",
       "Length: 211, dtype: int64"
      ]
     },
     "execution_count": 7,
     "metadata": {},
     "output_type": "execute_result"
    }
   ],
   "source": [
    "# Number of NA's as a list:\n",
    "age_df.isna().sum()"
   ]
  },
  {
   "cell_type": "code",
   "execution_count": null,
   "id": "f733eb02-ff6c-4449-b695-35624e9b3613",
   "metadata": {},
   "outputs": [],
   "source": []
  }
 ],
 "metadata": {
  "kernelspec": {
   "display_name": "Python [conda env:adsml] *",
   "language": "python",
   "name": "conda-env-adsml-py"
  },
  "language_info": {
   "codemirror_mode": {
    "name": "ipython",
    "version": 3
   },
   "file_extension": ".py",
   "mimetype": "text/x-python",
   "name": "python",
   "nbconvert_exporter": "python",
   "pygments_lexer": "ipython3",
   "version": "3.9.18"
  }
 },
 "nbformat": 4,
 "nbformat_minor": 5
}
