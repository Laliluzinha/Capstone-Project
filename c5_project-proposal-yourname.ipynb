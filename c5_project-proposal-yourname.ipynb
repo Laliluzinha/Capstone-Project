{
 "cells": [
  {
   "cell_type": "markdown",
   "metadata": {},
   "source": [
    "# Capstone proposal by Lydia Paiva \n",
    "\n",
    "# Predicting loneliness by socio-demographics and behavioral data for people aged >65+ years"
   ]
  },
  {
   "cell_type": "markdown",
   "metadata": {},
   "source": [
    "The details are outlined in the **Proposal** unit on the platform - you should address all points from those instructions with as many markdown/code cells as needed. This should include code, observations, discussions and the planned steps."
   ]
  },
  {
   "cell_type": "markdown",
   "metadata": {},
   "source": [
    "## 1) The problem"
   ]
  },
  {
   "cell_type": "markdown",
   "metadata": {},
   "source": [
    "Our population is aging and one of the risk factor is loneliness (1, 2). A 85 year Harvard study has found that the quality of relationships is the most important factor in determining happiness. The study found that people with strong, supportive relationships were happier, healthier, and lived longer than those with weak or troubled relationships. Studies also found that social fitness, or social connectivity, was more important to a long and happy life than genes, social class, or IQ (3, 4). Besides, people feel more lonely with increasing age (5). Therefore it is important to understand the problem, why people aged above 65 are lonely and which factors are mostly contributing to their loneliness. \n",
    "Therefore, the aim of my capstone project is to predict how lonely a person is given a set of features. These features can be either socio-demographic or behavior factors or both, depending on the accuracy of the outcome. These factors will contribute to predicting the most important contributors to loneliness. \n",
    "\n",
    "<br> References: \n",
    "1. Holt-Lunstad, J., Smith, T. B., Baker, M., Harris, T., & Stephenson, D. (2015). Loneliness and Social Isolation as Risk Factors for Mortality: A Meta-Analytic Review. \n",
    "2. Yo, Q,, Ren, Y., and Wu, J. (2024). Loneliness shapes disparities in healthy life expectancy: a multi-state analysis from China. BMC Public Health. doi:10.1186/s12889-024-18975-z.)\n",
    "3. Waldinger, R., & Schulz, M. (2023). The Good Life: Lessons from the World's Longest Scientific Study of Happiness. Simon & Schuster.\n",
    "4. Nguyen, X. M. T., Li, Y., Wang, D. D., Whitbourne, S. B., Houghton, S. C., Hu, F. B., ... & Wilson, P. W. (2024). Impact of 8 lifestyle factors on mortality and life expectancy among United States veterans: The Million Veteran Program\n",
    "5. Ageing & Society , Volume 31 , Issue 8 , November 2011 , pp. 1368 - 1388, DOI: https://doi.org/10.1017/S0144686X1000139X)"
   ]
  },
  {
   "cell_type": "markdown",
   "metadata": {},
   "source": [
    "## 2) The data\n",
    "\n",
    "### (a) Clear overview of your data"
   ]
  },
  {
   "cell_type": "markdown",
   "metadata": {},
   "source": [
    "**Libraries**"
   ]
  },
  {
   "cell_type": "code",
   "execution_count": 1,
   "metadata": {},
   "outputs": [],
   "source": [
    "import pandas as pd\n",
    "import numpy as np\n",
    "import matplotlib.pyplot as plt\n",
    "%matplotlib inline\n",
    "import seaborn as sns"
   ]
  },
  {
   "cell_type": "markdown",
   "metadata": {},
   "source": [
    "**Source and context of the dataset:**\n",
    "<br> The data is from the aging survey of the city of Zurich (https://data.stadt-zuerich.ch/dataset/gud_ds_altersbefragung). The survey has been conducted by the Institut DemoSCOPE during the period of 03.07.2023 till 27.08.2023. The study is a representative survey of the city's population aged 65 and over and is part of the “Ageing Strategy 2035” of the city of Zurich. The aim of the survey was to find out more about the living conditions, needs and opinions of older residents in the city of Zurich. Most individuals filled out the questionnaire using a paper version(88 %); 12 % filled it out online and 3 people replied through a telefon interview. The 'Departementssekretariat, Gesundheits- und Umweltdepartement' is responsible for the study. "
   ]
  },
  {
   "cell_type": "markdown",
   "metadata": {},
   "source": [
    "**Load data from the survey 'Altersbefragung' in Zurich from 2023 and the code list:**\n",
    "<br>\n",
    "https://www.stadt-zuerich.ch/de/politik-und-verwaltung/statistik-und-daten/daten/politik-und-verwaltung/befragungen/altersbefragung.html"
   ]
  },
  {
   "cell_type": "code",
   "execution_count": 2,
   "metadata": {},
   "outputs": [
    {
     "data": {
      "text/html": [
       "<div>\n",
       "<style scoped>\n",
       "    .dataframe tbody tr th:only-of-type {\n",
       "        vertical-align: middle;\n",
       "    }\n",
       "\n",
       "    .dataframe tbody tr th {\n",
       "        vertical-align: top;\n",
       "    }\n",
       "\n",
       "    .dataframe thead th {\n",
       "        text-align: right;\n",
       "    }\n",
       "</style>\n",
       "<table border=\"1\" class=\"dataframe\">\n",
       "  <thead>\n",
       "    <tr style=\"text-align: right;\">\n",
       "      <th></th>\n",
       "      <th>F01</th>\n",
       "      <th>F03</th>\n",
       "      <th>F06</th>\n",
       "      <th>F0701</th>\n",
       "      <th>F0702</th>\n",
       "      <th>F0703</th>\n",
       "      <th>F0704</th>\n",
       "      <th>F0901</th>\n",
       "      <th>F0902</th>\n",
       "      <th>F0903</th>\n",
       "      <th>...</th>\n",
       "      <th>S08_7</th>\n",
       "      <th>S08_8</th>\n",
       "      <th>S08_9</th>\n",
       "      <th>S08_10</th>\n",
       "      <th>S08_11</th>\n",
       "      <th>S08_12</th>\n",
       "      <th>K_SCHICHT</th>\n",
       "      <th>K_KREIS</th>\n",
       "      <th>K_GESCHLECHT</th>\n",
       "      <th>GEWICHT</th>\n",
       "    </tr>\n",
       "  </thead>\n",
       "  <tbody>\n",
       "    <tr>\n",
       "      <th>0</th>\n",
       "      <td>4</td>\n",
       "      <td>2</td>\n",
       "      <td>2.0</td>\n",
       "      <td>4.0</td>\n",
       "      <td>4.0</td>\n",
       "      <td>4.0</td>\n",
       "      <td>4.0</td>\n",
       "      <td>4.0</td>\n",
       "      <td>4.0</td>\n",
       "      <td>4.0</td>\n",
       "      <td>...</td>\n",
       "      <td>1</td>\n",
       "      <td>0</td>\n",
       "      <td>0</td>\n",
       "      <td>0</td>\n",
       "      <td>0</td>\n",
       "      <td>0</td>\n",
       "      <td>77</td>\n",
       "      <td>3</td>\n",
       "      <td>2</td>\n",
       "      <td>24.8000</td>\n",
       "    </tr>\n",
       "    <tr>\n",
       "      <th>1</th>\n",
       "      <td>4</td>\n",
       "      <td>1</td>\n",
       "      <td>1.0</td>\n",
       "      <td>4.0</td>\n",
       "      <td>4.0</td>\n",
       "      <td>4.0</td>\n",
       "      <td>4.0</td>\n",
       "      <td>NaN</td>\n",
       "      <td>3.0</td>\n",
       "      <td>3.0</td>\n",
       "      <td>...</td>\n",
       "      <td>0</td>\n",
       "      <td>0</td>\n",
       "      <td>0</td>\n",
       "      <td>0</td>\n",
       "      <td>0</td>\n",
       "      <td>1</td>\n",
       "      <td>70</td>\n",
       "      <td>10</td>\n",
       "      <td>2</td>\n",
       "      <td>23.9694</td>\n",
       "    </tr>\n",
       "    <tr>\n",
       "      <th>2</th>\n",
       "      <td>2</td>\n",
       "      <td>1</td>\n",
       "      <td>2.0</td>\n",
       "      <td>4.0</td>\n",
       "      <td>3.0</td>\n",
       "      <td>3.0</td>\n",
       "      <td>4.0</td>\n",
       "      <td>3.0</td>\n",
       "      <td>4.0</td>\n",
       "      <td>4.0</td>\n",
       "      <td>...</td>\n",
       "      <td>0</td>\n",
       "      <td>0</td>\n",
       "      <td>0</td>\n",
       "      <td>0</td>\n",
       "      <td>0</td>\n",
       "      <td>1</td>\n",
       "      <td>16</td>\n",
       "      <td>9</td>\n",
       "      <td>1</td>\n",
       "      <td>28.5568</td>\n",
       "    </tr>\n",
       "    <tr>\n",
       "      <th>3</th>\n",
       "      <td>4</td>\n",
       "      <td>1</td>\n",
       "      <td>2.0</td>\n",
       "      <td>1.0</td>\n",
       "      <td>NaN</td>\n",
       "      <td>NaN</td>\n",
       "      <td>NaN</td>\n",
       "      <td>3.0</td>\n",
       "      <td>4.0</td>\n",
       "      <td>4.0</td>\n",
       "      <td>...</td>\n",
       "      <td>0</td>\n",
       "      <td>0</td>\n",
       "      <td>0</td>\n",
       "      <td>0</td>\n",
       "      <td>0</td>\n",
       "      <td>1</td>\n",
       "      <td>16</td>\n",
       "      <td>9</td>\n",
       "      <td>1</td>\n",
       "      <td>28.5568</td>\n",
       "    </tr>\n",
       "    <tr>\n",
       "      <th>4</th>\n",
       "      <td>2</td>\n",
       "      <td>4</td>\n",
       "      <td>1.0</td>\n",
       "      <td>NaN</td>\n",
       "      <td>3.0</td>\n",
       "      <td>NaN</td>\n",
       "      <td>4.0</td>\n",
       "      <td>3.0</td>\n",
       "      <td>1.0</td>\n",
       "      <td>3.0</td>\n",
       "      <td>...</td>\n",
       "      <td>0</td>\n",
       "      <td>0</td>\n",
       "      <td>0</td>\n",
       "      <td>0</td>\n",
       "      <td>0</td>\n",
       "      <td>1</td>\n",
       "      <td>35</td>\n",
       "      <td>8</td>\n",
       "      <td>1</td>\n",
       "      <td>30.9259</td>\n",
       "    </tr>\n",
       "  </tbody>\n",
       "</table>\n",
       "<p>5 rows × 211 columns</p>\n",
       "</div>"
      ],
      "text/plain": [
       "   F01  F03  F06  F0701  F0702  F0703  F0704  F0901  F0902  F0903  ...  S08_7  \\\n",
       "0    4    2  2.0    4.0    4.0    4.0    4.0    4.0    4.0    4.0  ...      1   \n",
       "1    4    1  1.0    4.0    4.0    4.0    4.0    NaN    3.0    3.0  ...      0   \n",
       "2    2    1  2.0    4.0    3.0    3.0    4.0    3.0    4.0    4.0  ...      0   \n",
       "3    4    1  2.0    1.0    NaN    NaN    NaN    3.0    4.0    4.0  ...      0   \n",
       "4    2    4  1.0    NaN    3.0    NaN    4.0    3.0    1.0    3.0  ...      0   \n",
       "\n",
       "   S08_8  S08_9  S08_10  S08_11  S08_12  K_SCHICHT  K_KREIS  K_GESCHLECHT  \\\n",
       "0      0      0       0       0       0         77        3             2   \n",
       "1      0      0       0       0       1         70       10             2   \n",
       "2      0      0       0       0       1         16        9             1   \n",
       "3      0      0       0       0       1         16        9             1   \n",
       "4      0      0       0       0       1         35        8             1   \n",
       "\n",
       "   GEWICHT  \n",
       "0  24.8000  \n",
       "1  23.9694  \n",
       "2  28.5568  \n",
       "3  28.5568  \n",
       "4  30.9259  \n",
       "\n",
       "[5 rows x 211 columns]"
      ]
     },
     "execution_count": 2,
     "metadata": {},
     "output_type": "execute_result"
    }
   ],
   "source": [
    "age_df = pd.read_csv('altersbefragung_ogd.csv')\n",
    "age_df.head()"
   ]
  },
  {
   "cell_type": "code",
   "execution_count": 3,
   "metadata": {},
   "outputs": [
    {
     "data": {
      "text/html": [
       "<div>\n",
       "<style scoped>\n",
       "    .dataframe tbody tr th:only-of-type {\n",
       "        vertical-align: middle;\n",
       "    }\n",
       "\n",
       "    .dataframe tbody tr th {\n",
       "        vertical-align: top;\n",
       "    }\n",
       "\n",
       "    .dataframe thead th {\n",
       "        text-align: right;\n",
       "    }\n",
       "</style>\n",
       "<table border=\"1\" class=\"dataframe\">\n",
       "  <thead>\n",
       "    <tr style=\"text-align: right;\">\n",
       "      <th></th>\n",
       "      <th>Frage_Code</th>\n",
       "      <th>Frage_Titel</th>\n",
       "      <th>Antwort_Code</th>\n",
       "      <th>Antwort_Beschreibung</th>\n",
       "    </tr>\n",
       "  </thead>\n",
       "  <tbody>\n",
       "    <tr>\n",
       "      <th>0</th>\n",
       "      <td>F01</td>\n",
       "      <td>F01: Wohlbefinden in der Stadt Zürich</td>\n",
       "      <td>1.0</td>\n",
       "      <td>Sehr ungern</td>\n",
       "    </tr>\n",
       "    <tr>\n",
       "      <th>1</th>\n",
       "      <td>F01</td>\n",
       "      <td>F01: Wohlbefinden in der Stadt Zürich</td>\n",
       "      <td>2.0</td>\n",
       "      <td>Eher ungern</td>\n",
       "    </tr>\n",
       "    <tr>\n",
       "      <th>2</th>\n",
       "      <td>F01</td>\n",
       "      <td>F01: Wohlbefinden in der Stadt Zürich</td>\n",
       "      <td>3.0</td>\n",
       "      <td>Eher gerne</td>\n",
       "    </tr>\n",
       "    <tr>\n",
       "      <th>3</th>\n",
       "      <td>F01</td>\n",
       "      <td>F01: Wohlbefinden in der Stadt Zürich</td>\n",
       "      <td>4.0</td>\n",
       "      <td>Sehr gerne</td>\n",
       "    </tr>\n",
       "    <tr>\n",
       "      <th>4</th>\n",
       "      <td>F01</td>\n",
       "      <td>F01: Wohlbefinden in der Stadt Zürich</td>\n",
       "      <td>888.0</td>\n",
       "      <td>Weiss nicht</td>\n",
       "    </tr>\n",
       "  </tbody>\n",
       "</table>\n",
       "</div>"
      ],
      "text/plain": [
       "  Frage_Code                            Frage_Titel  Antwort_Code  \\\n",
       "0        F01  F01: Wohlbefinden in der Stadt Zürich           1.0   \n",
       "1        F01  F01: Wohlbefinden in der Stadt Zürich           2.0   \n",
       "2        F01  F01: Wohlbefinden in der Stadt Zürich           3.0   \n",
       "3        F01  F01: Wohlbefinden in der Stadt Zürich           4.0   \n",
       "4        F01  F01: Wohlbefinden in der Stadt Zürich         888.0   \n",
       "\n",
       "  Antwort_Beschreibung  \n",
       "0          Sehr ungern  \n",
       "1          Eher ungern  \n",
       "2           Eher gerne  \n",
       "3           Sehr gerne  \n",
       "4          Weiss nicht  "
      ]
     },
     "execution_count": 3,
     "metadata": {},
     "output_type": "execute_result"
    }
   ],
   "source": [
    "# Load the code list with all encoded values:\n",
    "code_list = pd.read_csv('codelist_altersbefragung_ogd - codelist_altersbefragung_ogd.csv')\n",
    "code_list.head()"
   ]
  },
  {
   "cell_type": "markdown",
   "metadata": {},
   "source": [
    "**Observation:** It looks like some columns (=questions) are missing, since the columns jump direclty form F01 to F03 and F03 to F06. After checking the order, it does not seem that these columns appear elsewhere. These questions would include a specific number, rather than a number attribution. I will check if I can get back these rows by contacting the responsible department. "
   ]
  },
  {
   "cell_type": "code",
   "execution_count": 4,
   "metadata": {},
   "outputs": [
    {
     "data": {
      "text/plain": [
       "(2449, 211)"
      ]
     },
     "execution_count": 4,
     "metadata": {},
     "output_type": "execute_result"
    }
   ],
   "source": [
    "# Number of features and samples\n",
    "age_df.shape"
   ]
  },
  {
   "cell_type": "code",
   "execution_count": 5,
   "metadata": {},
   "outputs": [
    {
     "name": "stdout",
     "output_type": "stream",
     "text": [
      "<class 'pandas.core.frame.DataFrame'>\n",
      "RangeIndex: 2449 entries, 0 to 2448\n",
      "Columns: 211 entries, F01 to GEWICHT\n",
      "dtypes: float64(132), int64(79)\n",
      "memory usage: 3.9 MB\n"
     ]
    }
   ],
   "source": [
    "# Information about the dataset\n",
    "age_df.info()"
   ]
  },
  {
   "cell_type": "markdown",
   "metadata": {},
   "source": [
    "The dataset includes 211 features and 2449 samples. Features correlate to the questions in the questionnaire and are defined by the question number apart from the last four questions which are related the neighborhood (Kreis), sex ('Geschlecht'), layer weighting variable ('Schichtvariable für die Gewichtung') and  weigthing variable (Gewichtungsvariable). The questions cover mostly socio-demographics and behavioral factors including but not limited to the living status & situation, usage of digital devices and help from others. <br> The answers are self-assessed and given by seleting one answer (as living alone, with partner, etc.). <br> Looking at the possible answers encoded, the answers are encoded with a number from 1 to 10, with a maximum of 10 possible answeres for certain questions, most questions have only 1 to 4 answers. There are 3 other codes, namely: \n",
    "- 88 stands for non-existent/deceased\n",
    "- 888 for don't know\n",
    "- 999 stands for nothing"
   ]
  },
  {
   "cell_type": "markdown",
   "metadata": {},
   "source": [
    "**Quality of the data: missing, incorrect values, data completeness:**"
   ]
  },
  {
   "cell_type": "code",
   "execution_count": 6,
   "metadata": {},
   "outputs": [
    {
     "data": {
      "text/plain": [
       "float64    132\n",
       "int64       79\n",
       "dtype: int64"
      ]
     },
     "execution_count": 6,
     "metadata": {},
     "output_type": "execute_result"
    }
   ],
   "source": [
    "# Data types:\n",
    "pd.value_counts(age_df.dtypes)"
   ]
  },
  {
   "cell_type": "markdown",
   "metadata": {},
   "source": [
    "**Observation:** The data is stored either as float or integer. There are no object data points. "
   ]
  },
  {
   "cell_type": "code",
   "execution_count": 7,
   "metadata": {},
   "outputs": [
    {
     "data": {
      "text/html": [
       "<div>\n",
       "<style scoped>\n",
       "    .dataframe tbody tr th:only-of-type {\n",
       "        vertical-align: middle;\n",
       "    }\n",
       "\n",
       "    .dataframe tbody tr th {\n",
       "        vertical-align: top;\n",
       "    }\n",
       "\n",
       "    .dataframe thead th {\n",
       "        text-align: right;\n",
       "    }\n",
       "</style>\n",
       "<table border=\"1\" class=\"dataframe\">\n",
       "  <thead>\n",
       "    <tr style=\"text-align: right;\">\n",
       "      <th></th>\n",
       "      <th>F21</th>\n",
       "      <th>F3702</th>\n",
       "      <th>F15</th>\n",
       "      <th>F3707</th>\n",
       "      <th>F2202</th>\n",
       "      <th>F3708</th>\n",
       "      <th>F2204</th>\n",
       "      <th>F2201</th>\n",
       "      <th>F3001</th>\n",
       "      <th>F3705</th>\n",
       "      <th>...</th>\n",
       "      <th>F25_8</th>\n",
       "      <th>F25_7</th>\n",
       "      <th>F25_6</th>\n",
       "      <th>F25_5</th>\n",
       "      <th>F25_3</th>\n",
       "      <th>F25_4</th>\n",
       "      <th>F26</th>\n",
       "      <th>F1403</th>\n",
       "      <th>F1303</th>\n",
       "      <th>F27</th>\n",
       "    </tr>\n",
       "  </thead>\n",
       "  <tbody>\n",
       "    <tr>\n",
       "      <th>0</th>\n",
       "      <td>41</td>\n",
       "      <td>54</td>\n",
       "      <td>58</td>\n",
       "      <td>70</td>\n",
       "      <td>71</td>\n",
       "      <td>80</td>\n",
       "      <td>80</td>\n",
       "      <td>92</td>\n",
       "      <td>98</td>\n",
       "      <td>98</td>\n",
       "      <td>...</td>\n",
       "      <td>2297</td>\n",
       "      <td>2297</td>\n",
       "      <td>2297</td>\n",
       "      <td>2297</td>\n",
       "      <td>2297</td>\n",
       "      <td>2297</td>\n",
       "      <td>2304</td>\n",
       "      <td>2338</td>\n",
       "      <td>2346</td>\n",
       "      <td>2358</td>\n",
       "    </tr>\n",
       "  </tbody>\n",
       "</table>\n",
       "<p>1 rows × 131 columns</p>\n",
       "</div>"
      ],
      "text/plain": [
       "   F21  F3702  F15  F3707  F2202  F3708  F2204  F2201  F3001  F3705  ...  \\\n",
       "0   41     54   58     70     71     80     80     92     98     98  ...   \n",
       "\n",
       "   F25_8  F25_7  F25_6  F25_5  F25_3  F25_4   F26  F1403  F1303   F27  \n",
       "0   2297   2297   2297   2297   2297   2297  2304   2338   2346  2358  \n",
       "\n",
       "[1 rows x 131 columns]"
      ]
     },
     "execution_count": 7,
     "metadata": {},
     "output_type": "execute_result"
    }
   ],
   "source": [
    "# Columns with NA and number of NA's as a list and dataframe:\n",
    "age_df_na_count = age_df.isna().sum().sort_values()\n",
    "df_na = pd.DataFrame(age_df_na_count[age_df_na_count > 0]).T\n",
    "df_na"
   ]
  },
  {
   "cell_type": "code",
   "execution_count": 8,
   "metadata": {},
   "outputs": [
    {
     "data": {
      "text/plain": [
       "2217    112\n",
       "2031    113\n",
       "1067    115\n",
       "290     115\n",
       "2448    115\n",
       "1039    117\n",
       "2382    117\n",
       "668     123\n",
       "1635    125\n",
       "2232    127\n",
       "dtype: int64"
      ]
     },
     "execution_count": 8,
     "metadata": {},
     "output_type": "execute_result"
    }
   ],
   "source": [
    "# Most m issing data per row (individual)\n",
    "age_df.isna().sum(axis=1).sort_values().tail(10)"
   ]
  },
  {
   "cell_type": "markdown",
   "metadata": {},
   "source": [
    "131 columns have missing data. This is partially due to the fact that some of the question only have to be answered if the related question was positively answered (for questions F7, F11 ). For the question F25, F26, F27 and F1403 and F1303, there is the most missing data. From a total of 211 columns, some individuals have over half of the columns from the data missing. Futher investigation needs to be done to decide if all rows can be kept."
   ]
  },
  {
   "cell_type": "code",
   "execution_count": 9,
   "metadata": {},
   "outputs": [
    {
     "data": {
      "text/html": [
       "<div>\n",
       "<style scoped>\n",
       "    .dataframe tbody tr th:only-of-type {\n",
       "        vertical-align: middle;\n",
       "    }\n",
       "\n",
       "    .dataframe tbody tr th {\n",
       "        vertical-align: top;\n",
       "    }\n",
       "\n",
       "    .dataframe thead th {\n",
       "        text-align: right;\n",
       "    }\n",
       "</style>\n",
       "<table border=\"1\" class=\"dataframe\">\n",
       "  <thead>\n",
       "    <tr style=\"text-align: right;\">\n",
       "      <th></th>\n",
       "      <th>F01</th>\n",
       "      <th>F03</th>\n",
       "      <th>F11_1</th>\n",
       "      <th>F11_2</th>\n",
       "      <th>F11_3</th>\n",
       "      <th>F11_4</th>\n",
       "      <th>F11_5</th>\n",
       "      <th>F11_6</th>\n",
       "      <th>F11_7</th>\n",
       "      <th>F11_8</th>\n",
       "      <th>...</th>\n",
       "      <th>S08_6</th>\n",
       "      <th>S08_7</th>\n",
       "      <th>S08_8</th>\n",
       "      <th>S08_9</th>\n",
       "      <th>S08_10</th>\n",
       "      <th>S08_11</th>\n",
       "      <th>S08_12</th>\n",
       "      <th>K_SCHICHT</th>\n",
       "      <th>K_KREIS</th>\n",
       "      <th>K_GESCHLECHT</th>\n",
       "    </tr>\n",
       "  </thead>\n",
       "  <tbody>\n",
       "    <tr>\n",
       "      <th>count</th>\n",
       "      <td>2449.000000</td>\n",
       "      <td>2449.000000</td>\n",
       "      <td>2449.000000</td>\n",
       "      <td>2449.000000</td>\n",
       "      <td>2449.000000</td>\n",
       "      <td>2449.000000</td>\n",
       "      <td>2449.000000</td>\n",
       "      <td>2449.000000</td>\n",
       "      <td>2449.000000</td>\n",
       "      <td>2449.000000</td>\n",
       "      <td>...</td>\n",
       "      <td>2449.000000</td>\n",
       "      <td>2449.000000</td>\n",
       "      <td>2449.000000</td>\n",
       "      <td>2449.0</td>\n",
       "      <td>2449.000000</td>\n",
       "      <td>2449.000000</td>\n",
       "      <td>2449.000000</td>\n",
       "      <td>2449.000000</td>\n",
       "      <td>2449.000000</td>\n",
       "      <td>2449.000000</td>\n",
       "    </tr>\n",
       "    <tr>\n",
       "      <th>mean</th>\n",
       "      <td>19.085749</td>\n",
       "      <td>12.527971</td>\n",
       "      <td>0.003675</td>\n",
       "      <td>0.024500</td>\n",
       "      <td>0.006942</td>\n",
       "      <td>0.001225</td>\n",
       "      <td>0.001633</td>\n",
       "      <td>0.001633</td>\n",
       "      <td>0.001633</td>\n",
       "      <td>0.001225</td>\n",
       "      <td>...</td>\n",
       "      <td>0.002450</td>\n",
       "      <td>0.017967</td>\n",
       "      <td>0.016742</td>\n",
       "      <td>0.0</td>\n",
       "      <td>0.000408</td>\n",
       "      <td>0.095141</td>\n",
       "      <td>0.738261</td>\n",
       "      <td>41.076766</td>\n",
       "      <td>7.536954</td>\n",
       "      <td>1.589628</td>\n",
       "    </tr>\n",
       "    <tr>\n",
       "      <th>std</th>\n",
       "      <td>120.067798</td>\n",
       "      <td>98.180182</td>\n",
       "      <td>0.060522</td>\n",
       "      <td>0.154626</td>\n",
       "      <td>0.083044</td>\n",
       "      <td>0.034986</td>\n",
       "      <td>0.040390</td>\n",
       "      <td>0.040390</td>\n",
       "      <td>0.040390</td>\n",
       "      <td>0.034986</td>\n",
       "      <td>...</td>\n",
       "      <td>0.049447</td>\n",
       "      <td>0.132857</td>\n",
       "      <td>0.128328</td>\n",
       "      <td>0.0</td>\n",
       "      <td>0.020207</td>\n",
       "      <td>0.293469</td>\n",
       "      <td>0.439671</td>\n",
       "      <td>23.120065</td>\n",
       "      <td>3.227670</td>\n",
       "      <td>0.492002</td>\n",
       "    </tr>\n",
       "    <tr>\n",
       "      <th>min</th>\n",
       "      <td>1.000000</td>\n",
       "      <td>1.000000</td>\n",
       "      <td>0.000000</td>\n",
       "      <td>0.000000</td>\n",
       "      <td>0.000000</td>\n",
       "      <td>0.000000</td>\n",
       "      <td>0.000000</td>\n",
       "      <td>0.000000</td>\n",
       "      <td>0.000000</td>\n",
       "      <td>0.000000</td>\n",
       "      <td>...</td>\n",
       "      <td>0.000000</td>\n",
       "      <td>0.000000</td>\n",
       "      <td>0.000000</td>\n",
       "      <td>0.0</td>\n",
       "      <td>0.000000</td>\n",
       "      <td>0.000000</td>\n",
       "      <td>0.000000</td>\n",
       "      <td>1.000000</td>\n",
       "      <td>1.000000</td>\n",
       "      <td>1.000000</td>\n",
       "    </tr>\n",
       "    <tr>\n",
       "      <th>25%</th>\n",
       "      <td>4.000000</td>\n",
       "      <td>1.000000</td>\n",
       "      <td>0.000000</td>\n",
       "      <td>0.000000</td>\n",
       "      <td>0.000000</td>\n",
       "      <td>0.000000</td>\n",
       "      <td>0.000000</td>\n",
       "      <td>0.000000</td>\n",
       "      <td>0.000000</td>\n",
       "      <td>0.000000</td>\n",
       "      <td>...</td>\n",
       "      <td>0.000000</td>\n",
       "      <td>0.000000</td>\n",
       "      <td>0.000000</td>\n",
       "      <td>0.0</td>\n",
       "      <td>0.000000</td>\n",
       "      <td>0.000000</td>\n",
       "      <td>0.000000</td>\n",
       "      <td>20.000000</td>\n",
       "      <td>5.000000</td>\n",
       "      <td>1.000000</td>\n",
       "    </tr>\n",
       "    <tr>\n",
       "      <th>50%</th>\n",
       "      <td>4.000000</td>\n",
       "      <td>2.000000</td>\n",
       "      <td>0.000000</td>\n",
       "      <td>0.000000</td>\n",
       "      <td>0.000000</td>\n",
       "      <td>0.000000</td>\n",
       "      <td>0.000000</td>\n",
       "      <td>0.000000</td>\n",
       "      <td>0.000000</td>\n",
       "      <td>0.000000</td>\n",
       "      <td>...</td>\n",
       "      <td>0.000000</td>\n",
       "      <td>0.000000</td>\n",
       "      <td>0.000000</td>\n",
       "      <td>0.0</td>\n",
       "      <td>0.000000</td>\n",
       "      <td>0.000000</td>\n",
       "      <td>1.000000</td>\n",
       "      <td>39.000000</td>\n",
       "      <td>8.000000</td>\n",
       "      <td>2.000000</td>\n",
       "    </tr>\n",
       "    <tr>\n",
       "      <th>75%</th>\n",
       "      <td>4.000000</td>\n",
       "      <td>4.000000</td>\n",
       "      <td>0.000000</td>\n",
       "      <td>0.000000</td>\n",
       "      <td>0.000000</td>\n",
       "      <td>0.000000</td>\n",
       "      <td>0.000000</td>\n",
       "      <td>0.000000</td>\n",
       "      <td>0.000000</td>\n",
       "      <td>0.000000</td>\n",
       "      <td>...</td>\n",
       "      <td>0.000000</td>\n",
       "      <td>0.000000</td>\n",
       "      <td>0.000000</td>\n",
       "      <td>0.0</td>\n",
       "      <td>0.000000</td>\n",
       "      <td>0.000000</td>\n",
       "      <td>1.000000</td>\n",
       "      <td>58.000000</td>\n",
       "      <td>10.000000</td>\n",
       "      <td>2.000000</td>\n",
       "    </tr>\n",
       "    <tr>\n",
       "      <th>max</th>\n",
       "      <td>999.000000</td>\n",
       "      <td>999.000000</td>\n",
       "      <td>1.000000</td>\n",
       "      <td>1.000000</td>\n",
       "      <td>1.000000</td>\n",
       "      <td>1.000000</td>\n",
       "      <td>1.000000</td>\n",
       "      <td>1.000000</td>\n",
       "      <td>1.000000</td>\n",
       "      <td>1.000000</td>\n",
       "      <td>...</td>\n",
       "      <td>1.000000</td>\n",
       "      <td>1.000000</td>\n",
       "      <td>1.000000</td>\n",
       "      <td>0.0</td>\n",
       "      <td>1.000000</td>\n",
       "      <td>1.000000</td>\n",
       "      <td>1.000000</td>\n",
       "      <td>82.000000</td>\n",
       "      <td>12.000000</td>\n",
       "      <td>2.000000</td>\n",
       "    </tr>\n",
       "  </tbody>\n",
       "</table>\n",
       "<p>8 rows × 79 columns</p>\n",
       "</div>"
      ],
      "text/plain": [
       "               F01          F03        F11_1        F11_2        F11_3  \\\n",
       "count  2449.000000  2449.000000  2449.000000  2449.000000  2449.000000   \n",
       "mean     19.085749    12.527971     0.003675     0.024500     0.006942   \n",
       "std     120.067798    98.180182     0.060522     0.154626     0.083044   \n",
       "min       1.000000     1.000000     0.000000     0.000000     0.000000   \n",
       "25%       4.000000     1.000000     0.000000     0.000000     0.000000   \n",
       "50%       4.000000     2.000000     0.000000     0.000000     0.000000   \n",
       "75%       4.000000     4.000000     0.000000     0.000000     0.000000   \n",
       "max     999.000000   999.000000     1.000000     1.000000     1.000000   \n",
       "\n",
       "             F11_4        F11_5        F11_6        F11_7        F11_8  ...  \\\n",
       "count  2449.000000  2449.000000  2449.000000  2449.000000  2449.000000  ...   \n",
       "mean      0.001225     0.001633     0.001633     0.001633     0.001225  ...   \n",
       "std       0.034986     0.040390     0.040390     0.040390     0.034986  ...   \n",
       "min       0.000000     0.000000     0.000000     0.000000     0.000000  ...   \n",
       "25%       0.000000     0.000000     0.000000     0.000000     0.000000  ...   \n",
       "50%       0.000000     0.000000     0.000000     0.000000     0.000000  ...   \n",
       "75%       0.000000     0.000000     0.000000     0.000000     0.000000  ...   \n",
       "max       1.000000     1.000000     1.000000     1.000000     1.000000  ...   \n",
       "\n",
       "             S08_6        S08_7        S08_8   S08_9       S08_10  \\\n",
       "count  2449.000000  2449.000000  2449.000000  2449.0  2449.000000   \n",
       "mean      0.002450     0.017967     0.016742     0.0     0.000408   \n",
       "std       0.049447     0.132857     0.128328     0.0     0.020207   \n",
       "min       0.000000     0.000000     0.000000     0.0     0.000000   \n",
       "25%       0.000000     0.000000     0.000000     0.0     0.000000   \n",
       "50%       0.000000     0.000000     0.000000     0.0     0.000000   \n",
       "75%       0.000000     0.000000     0.000000     0.0     0.000000   \n",
       "max       1.000000     1.000000     1.000000     0.0     1.000000   \n",
       "\n",
       "            S08_11       S08_12    K_SCHICHT      K_KREIS  K_GESCHLECHT  \n",
       "count  2449.000000  2449.000000  2449.000000  2449.000000   2449.000000  \n",
       "mean      0.095141     0.738261    41.076766     7.536954      1.589628  \n",
       "std       0.293469     0.439671    23.120065     3.227670      0.492002  \n",
       "min       0.000000     0.000000     1.000000     1.000000      1.000000  \n",
       "25%       0.000000     0.000000    20.000000     5.000000      1.000000  \n",
       "50%       0.000000     1.000000    39.000000     8.000000      2.000000  \n",
       "75%       0.000000     1.000000    58.000000    10.000000      2.000000  \n",
       "max       1.000000     1.000000    82.000000    12.000000      2.000000  \n",
       "\n",
       "[8 rows x 79 columns]"
      ]
     },
     "execution_count": 9,
     "metadata": {},
     "output_type": "execute_result"
    }
   ],
   "source": [
    "# Check for incorect data by looking at the descriptive statistics for each the float and integer columns seperately:\n",
    "age_df.select_dtypes(include='int').describe()"
   ]
  },
  {
   "cell_type": "code",
   "execution_count": 10,
   "metadata": {},
   "outputs": [
    {
     "data": {
      "text/html": [
       "<div>\n",
       "<style scoped>\n",
       "    .dataframe tbody tr th:only-of-type {\n",
       "        vertical-align: middle;\n",
       "    }\n",
       "\n",
       "    .dataframe tbody tr th {\n",
       "        vertical-align: top;\n",
       "    }\n",
       "\n",
       "    .dataframe thead th {\n",
       "        text-align: right;\n",
       "    }\n",
       "</style>\n",
       "<table border=\"1\" class=\"dataframe\">\n",
       "  <thead>\n",
       "    <tr style=\"text-align: right;\">\n",
       "      <th></th>\n",
       "      <th>F06</th>\n",
       "      <th>F0701</th>\n",
       "      <th>F0702</th>\n",
       "      <th>F0703</th>\n",
       "      <th>F0704</th>\n",
       "      <th>F0901</th>\n",
       "      <th>F0902</th>\n",
       "      <th>F0903</th>\n",
       "      <th>F0904</th>\n",
       "      <th>F0905</th>\n",
       "      <th>...</th>\n",
       "      <th>F38_14</th>\n",
       "      <th>F39</th>\n",
       "      <th>F4001</th>\n",
       "      <th>F4002</th>\n",
       "      <th>F4003</th>\n",
       "      <th>F4004</th>\n",
       "      <th>F4005</th>\n",
       "      <th>F4101</th>\n",
       "      <th>F4102</th>\n",
       "      <th>GEWICHT</th>\n",
       "    </tr>\n",
       "  </thead>\n",
       "  <tbody>\n",
       "    <tr>\n",
       "      <th>count</th>\n",
       "      <td>2178.000000</td>\n",
       "      <td>2141.000000</td>\n",
       "      <td>2055.000000</td>\n",
       "      <td>1634.000000</td>\n",
       "      <td>2063.000000</td>\n",
       "      <td>2091.000000</td>\n",
       "      <td>2151.000000</td>\n",
       "      <td>1938.000000</td>\n",
       "      <td>2054.000000</td>\n",
       "      <td>2142.000000</td>\n",
       "      <td>...</td>\n",
       "      <td>2178.000000</td>\n",
       "      <td>1960.000000</td>\n",
       "      <td>2178.000000</td>\n",
       "      <td>2178.000000</td>\n",
       "      <td>2178.000000</td>\n",
       "      <td>2178.000000</td>\n",
       "      <td>2178.000000</td>\n",
       "      <td>1950.000000</td>\n",
       "      <td>1339.000000</td>\n",
       "      <td>2449.000000</td>\n",
       "    </tr>\n",
       "    <tr>\n",
       "      <th>mean</th>\n",
       "      <td>23.586777</td>\n",
       "      <td>3.573564</td>\n",
       "      <td>3.500243</td>\n",
       "      <td>3.189718</td>\n",
       "      <td>3.606398</td>\n",
       "      <td>3.316595</td>\n",
       "      <td>3.540679</td>\n",
       "      <td>3.469556</td>\n",
       "      <td>3.089094</td>\n",
       "      <td>3.754902</td>\n",
       "      <td>...</td>\n",
       "      <td>0.013774</td>\n",
       "      <td>2.760204</td>\n",
       "      <td>80.315886</td>\n",
       "      <td>92.546832</td>\n",
       "      <td>80.769972</td>\n",
       "      <td>79.178145</td>\n",
       "      <td>82.368687</td>\n",
       "      <td>2.207179</td>\n",
       "      <td>2.778193</td>\n",
       "      <td>24.935076</td>\n",
       "    </tr>\n",
       "    <tr>\n",
       "      <th>std</th>\n",
       "      <td>138.810780</td>\n",
       "      <td>0.763558</td>\n",
       "      <td>0.775021</td>\n",
       "      <td>0.932895</td>\n",
       "      <td>0.747578</td>\n",
       "      <td>0.708261</td>\n",
       "      <td>0.704864</td>\n",
       "      <td>0.669686</td>\n",
       "      <td>0.861781</td>\n",
       "      <td>0.590412</td>\n",
       "      <td>...</td>\n",
       "      <td>0.116579</td>\n",
       "      <td>0.713501</td>\n",
       "      <td>263.802881</td>\n",
       "      <td>281.521248</td>\n",
       "      <td>263.351961</td>\n",
       "      <td>260.109198</td>\n",
       "      <td>263.649759</td>\n",
       "      <td>1.020141</td>\n",
       "      <td>0.802241</td>\n",
       "      <td>5.715130</td>\n",
       "    </tr>\n",
       "    <tr>\n",
       "      <th>min</th>\n",
       "      <td>1.000000</td>\n",
       "      <td>1.000000</td>\n",
       "      <td>1.000000</td>\n",
       "      <td>1.000000</td>\n",
       "      <td>1.000000</td>\n",
       "      <td>1.000000</td>\n",
       "      <td>1.000000</td>\n",
       "      <td>1.000000</td>\n",
       "      <td>1.000000</td>\n",
       "      <td>1.000000</td>\n",
       "      <td>...</td>\n",
       "      <td>0.000000</td>\n",
       "      <td>1.000000</td>\n",
       "      <td>1.000000</td>\n",
       "      <td>1.000000</td>\n",
       "      <td>1.000000</td>\n",
       "      <td>1.000000</td>\n",
       "      <td>1.000000</td>\n",
       "      <td>1.000000</td>\n",
       "      <td>1.000000</td>\n",
       "      <td>3.500000</td>\n",
       "    </tr>\n",
       "    <tr>\n",
       "      <th>25%</th>\n",
       "      <td>2.000000</td>\n",
       "      <td>3.000000</td>\n",
       "      <td>3.000000</td>\n",
       "      <td>3.000000</td>\n",
       "      <td>3.000000</td>\n",
       "      <td>3.000000</td>\n",
       "      <td>3.000000</td>\n",
       "      <td>3.000000</td>\n",
       "      <td>3.000000</td>\n",
       "      <td>4.000000</td>\n",
       "      <td>...</td>\n",
       "      <td>0.000000</td>\n",
       "      <td>2.000000</td>\n",
       "      <td>3.000000</td>\n",
       "      <td>3.000000</td>\n",
       "      <td>3.000000</td>\n",
       "      <td>3.000000</td>\n",
       "      <td>2.000000</td>\n",
       "      <td>1.000000</td>\n",
       "      <td>2.000000</td>\n",
       "      <td>23.214900</td>\n",
       "    </tr>\n",
       "    <tr>\n",
       "      <th>50%</th>\n",
       "      <td>2.000000</td>\n",
       "      <td>4.000000</td>\n",
       "      <td>4.000000</td>\n",
       "      <td>3.000000</td>\n",
       "      <td>4.000000</td>\n",
       "      <td>3.000000</td>\n",
       "      <td>4.000000</td>\n",
       "      <td>4.000000</td>\n",
       "      <td>3.000000</td>\n",
       "      <td>4.000000</td>\n",
       "      <td>...</td>\n",
       "      <td>0.000000</td>\n",
       "      <td>3.000000</td>\n",
       "      <td>3.000000</td>\n",
       "      <td>3.000000</td>\n",
       "      <td>3.000000</td>\n",
       "      <td>3.000000</td>\n",
       "      <td>3.000000</td>\n",
       "      <td>2.000000</td>\n",
       "      <td>3.000000</td>\n",
       "      <td>24.720000</td>\n",
       "    </tr>\n",
       "    <tr>\n",
       "      <th>75%</th>\n",
       "      <td>3.000000</td>\n",
       "      <td>4.000000</td>\n",
       "      <td>4.000000</td>\n",
       "      <td>4.000000</td>\n",
       "      <td>4.000000</td>\n",
       "      <td>4.000000</td>\n",
       "      <td>4.000000</td>\n",
       "      <td>4.000000</td>\n",
       "      <td>4.000000</td>\n",
       "      <td>4.000000</td>\n",
       "      <td>...</td>\n",
       "      <td>0.000000</td>\n",
       "      <td>3.000000</td>\n",
       "      <td>4.000000</td>\n",
       "      <td>4.000000</td>\n",
       "      <td>4.000000</td>\n",
       "      <td>4.000000</td>\n",
       "      <td>3.000000</td>\n",
       "      <td>3.000000</td>\n",
       "      <td>3.000000</td>\n",
       "      <td>28.176500</td>\n",
       "    </tr>\n",
       "    <tr>\n",
       "      <th>max</th>\n",
       "      <td>999.000000</td>\n",
       "      <td>4.000000</td>\n",
       "      <td>4.000000</td>\n",
       "      <td>4.000000</td>\n",
       "      <td>4.000000</td>\n",
       "      <td>4.000000</td>\n",
       "      <td>4.000000</td>\n",
       "      <td>4.000000</td>\n",
       "      <td>4.000000</td>\n",
       "      <td>4.000000</td>\n",
       "      <td>...</td>\n",
       "      <td>1.000000</td>\n",
       "      <td>4.000000</td>\n",
       "      <td>999.000000</td>\n",
       "      <td>999.000000</td>\n",
       "      <td>999.000000</td>\n",
       "      <td>999.000000</td>\n",
       "      <td>999.000000</td>\n",
       "      <td>4.000000</td>\n",
       "      <td>4.000000</td>\n",
       "      <td>72.000000</td>\n",
       "    </tr>\n",
       "  </tbody>\n",
       "</table>\n",
       "<p>8 rows × 132 columns</p>\n",
       "</div>"
      ],
      "text/plain": [
       "               F06        F0701        F0702        F0703        F0704  \\\n",
       "count  2178.000000  2141.000000  2055.000000  1634.000000  2063.000000   \n",
       "mean     23.586777     3.573564     3.500243     3.189718     3.606398   \n",
       "std     138.810780     0.763558     0.775021     0.932895     0.747578   \n",
       "min       1.000000     1.000000     1.000000     1.000000     1.000000   \n",
       "25%       2.000000     3.000000     3.000000     3.000000     3.000000   \n",
       "50%       2.000000     4.000000     4.000000     3.000000     4.000000   \n",
       "75%       3.000000     4.000000     4.000000     4.000000     4.000000   \n",
       "max     999.000000     4.000000     4.000000     4.000000     4.000000   \n",
       "\n",
       "             F0901        F0902        F0903        F0904        F0905  ...  \\\n",
       "count  2091.000000  2151.000000  1938.000000  2054.000000  2142.000000  ...   \n",
       "mean      3.316595     3.540679     3.469556     3.089094     3.754902  ...   \n",
       "std       0.708261     0.704864     0.669686     0.861781     0.590412  ...   \n",
       "min       1.000000     1.000000     1.000000     1.000000     1.000000  ...   \n",
       "25%       3.000000     3.000000     3.000000     3.000000     4.000000  ...   \n",
       "50%       3.000000     4.000000     4.000000     3.000000     4.000000  ...   \n",
       "75%       4.000000     4.000000     4.000000     4.000000     4.000000  ...   \n",
       "max       4.000000     4.000000     4.000000     4.000000     4.000000  ...   \n",
       "\n",
       "            F38_14          F39        F4001        F4002        F4003  \\\n",
       "count  2178.000000  1960.000000  2178.000000  2178.000000  2178.000000   \n",
       "mean      0.013774     2.760204    80.315886    92.546832    80.769972   \n",
       "std       0.116579     0.713501   263.802881   281.521248   263.351961   \n",
       "min       0.000000     1.000000     1.000000     1.000000     1.000000   \n",
       "25%       0.000000     2.000000     3.000000     3.000000     3.000000   \n",
       "50%       0.000000     3.000000     3.000000     3.000000     3.000000   \n",
       "75%       0.000000     3.000000     4.000000     4.000000     4.000000   \n",
       "max       1.000000     4.000000   999.000000   999.000000   999.000000   \n",
       "\n",
       "             F4004        F4005        F4101        F4102      GEWICHT  \n",
       "count  2178.000000  2178.000000  1950.000000  1339.000000  2449.000000  \n",
       "mean     79.178145    82.368687     2.207179     2.778193    24.935076  \n",
       "std     260.109198   263.649759     1.020141     0.802241     5.715130  \n",
       "min       1.000000     1.000000     1.000000     1.000000     3.500000  \n",
       "25%       3.000000     2.000000     1.000000     2.000000    23.214900  \n",
       "50%       3.000000     3.000000     2.000000     3.000000    24.720000  \n",
       "75%       4.000000     3.000000     3.000000     3.000000    28.176500  \n",
       "max     999.000000   999.000000     4.000000     4.000000    72.000000  \n",
       "\n",
       "[8 rows x 132 columns]"
      ]
     },
     "execution_count": 10,
     "metadata": {},
     "output_type": "execute_result"
    }
   ],
   "source": [
    "# Descriptive statistics for columns datatype float:\n",
    "age_df.select_dtypes(include='float').describe()"
   ]
  },
  {
   "cell_type": "markdown",
   "metadata": {},
   "source": [
    "**Observation:** The datatypes of float and integer do not always represent different data types. Most of the answers are given by a scale with a minimum value of 1 and a maximum value of 4 or a binary encoding with 0 and 1. A few columns have a maximum value of 999 which corresponds to the field 'no information' given by the codelist information. "
   ]
  },
  {
   "cell_type": "markdown",
   "metadata": {},
   "source": [
    "### (b) Plan to manage and process the data"
   ]
  },
  {
   "cell_type": "markdown",
   "metadata": {},
   "source": [
    "**Managing data:** \n",
    "The data is stored as a csv file. Furthermore, there is a file with the encoding, also given as a csv file. The data is below 1 MB and therefore stored in a dropbox folder. "
   ]
  },
  {
   "cell_type": "markdown",
   "metadata": {},
   "source": [
    "**Data cleaning and data manipulation:**\n",
    "1. There needs to be a distinction of columns which have NA's because they have sub-questions or because there is missing data. \n",
    "<br> a) for those with sub-questions, if the missing value means there is no value available because another sub-question was answered possitively, then the value can be replaced with zero.\n",
    "<br> b) if the data is missing, then columns with lots of missing data could be dropped.\n",
    "2. Before handling the missing data which is left, rows with mostly NA's could be considered to be dropped. Especially those for which the outcome variable is missing. \n",
    "3. For columns with not many missing data, a technique of imputing the data can be applied, for example with the mean value. "
   ]
  },
  {
   "cell_type": "markdown",
   "metadata": {},
   "source": [
    "**Feature Engineering:**\n",
    "First, I'll select the features to include in the project given the importance of influence of the dependant variable. Then, I'll exclude the weighting and layer column for the moment. After this, all categories should include rating numbers or a selection of a number representing a specific answer. Then, I'd apply one-hot encoding so that a single column represents one answer. "
   ]
  },
  {
   "cell_type": "markdown",
   "metadata": {},
   "source": [
    "**Features to select:**\n",
    "The features to be selected need to be important for the dependant variable 'loneliness' (F15). I will do a pre-selection of potential features and then further analyse their relationship with the dependant variable and test different models with more or less variables. Also, once the pre-selection has been made, I'll check again the missing values and then decide in case a features has too many missing values to drop it. "
   ]
  },
  {
   "cell_type": "code",
   "execution_count": 11,
   "metadata": {
    "tags": []
   },
   "outputs": [
    {
     "data": {
      "text/plain": [
       "Index(['F01', 'F03', 'F06', 'F0701', 'F0702', 'F0703', 'F0704', 'F0901',\n",
       "       'F0902', 'F0903',\n",
       "       ...\n",
       "       'S08_7', 'S08_8', 'S08_9', 'S08_10', 'S08_11', 'S08_12', 'K_SCHICHT',\n",
       "       'K_KREIS', 'K_GESCHLECHT', 'GEWICHT'],\n",
       "      dtype='object', length=211)"
      ]
     },
     "execution_count": 11,
     "metadata": {},
     "output_type": "execute_result"
    }
   ],
   "source": [
    "# List of columns to select features from the questionnaire:\n",
    "age_df.columns"
   ]
  },
  {
   "cell_type": "markdown",
   "metadata": {},
   "source": [
    "**Here is a selection of questions per subcategory:**\n",
    "- About the neighborhoud: \n",
    "F1, F3, F5 (missing), F7 (F704 is an if question), F9 (F908, F909 not), F10, \n",
    "- About social relationships: F5 as well\n",
    "F12, F13, F14, F15: this is the predictable variable, F16, F17, F18\n",
    "- Help and support:\n",
    "F19 (F20 could be related to the same person or another person living under the same roof which could bias the results, so excluding F20).\n",
    "- Health: \n",
    "<br> -) F21, F22\n",
    "<br> -) F23, F24, (F25, F26 and F27 depend on F24)\n",
    "- Activities.\n",
    "F28, F30\n",
    "- Communication & digitalisation:\n",
    "F37\n",
    "- General questons:\n",
    "T_S0203, K_GESCHLECHT\n",
    "<br> civil status, nationality are missing, education and income are missing\n"
   ]
  },
  {
   "cell_type": "markdown",
   "metadata": {},
   "source": [
    "Important features are in the category social relationships. Also health and activities give valuable insights. The other categories need to be further investigated."
   ]
  },
  {
   "cell_type": "markdown",
   "metadata": {},
   "source": [
    "## 3) Exploratory data analysis (EDA)"
   ]
  },
  {
   "cell_type": "code",
   "execution_count": 12,
   "metadata": {},
   "outputs": [
    {
     "data": {
      "text/plain": [
       "(2449, 79)"
      ]
     },
     "execution_count": 12,
     "metadata": {},
     "output_type": "execute_result"
    }
   ],
   "source": [
    "# Create a dataframe with selected features:\n",
    "selection_df = age_df[['F01', 'F03', \n",
    "                               'F0701', 'F0702', 'F0703', \n",
    "                               'F0901', 'F0902', 'F0903', 'F0904', 'F0905', 'F0906', 'F0907', 'F0910', 'F0911', 'F0912', 'F0913', \n",
    "                               'F10', \n",
    "                               'F1201', 'F1202', 'F1203', 'F1204', 'F1205', 'F1206', \n",
    "                               'F1301', 'F1302', 'F1303', 'F1304', 'F1305', 'F1306', \n",
    "                               'F1401', 'F1402', 'F1403', 'F1404', 'F1405', 'F1406',\n",
    "                               'F15',\n",
    "                               'F16',\n",
    "                               'F17_1', 'F17_2', 'F17_3', 'F17_4', 'F17_5', 'F17_6', 'F17_7',\n",
    "                               'F1801', 'F1802', 'F1803',\n",
    "                               'F19_1', 'F19_2', 'F19_3', 'F19_4', 'F19_5', 'F19_6',\n",
    "                               'F21',\n",
    "                               'F2201', 'F2202', 'F2203', 'F2204',\n",
    "                               'F23',\n",
    "                               'F24',\n",
    "                               'F28',\n",
    "                               'F3001', 'F3002', 'F3003', 'F3004', 'F3005', 'F3006', 'F3007',\n",
    "                               'F3701', 'F3702', 'F3703', 'F3704', 'F3705', 'F3706', 'F3707', 'F3708', 'F3709',\n",
    "                               'T_S0203',\n",
    "                               'K_GESCHLECHT'\n",
    "                              ]]\n",
    "selection_df.shape                        "
   ]
  },
  {
   "cell_type": "code",
   "execution_count": 13,
   "metadata": {},
   "outputs": [
    {
     "data": {
      "text/plain": [
       "Index(['F01', 'F03', 'F0701', 'F0702', 'F0703', 'F0901', 'F0902', 'F0903',\n",
       "       'F0904', 'F0905', 'F0906', 'F0907', 'F0910', 'F0911', 'F0912', 'F0913',\n",
       "       'F10', 'F1201', 'F1202', 'F1203', 'F1204', 'F1205', 'F1206', 'F1301',\n",
       "       'F1302', 'F1303', 'F1304', 'F1305', 'F1306', 'F1401', 'F1402', 'F1403',\n",
       "       'F1404', 'F1405', 'F1406', 'F15', 'F16', 'F17_1', 'F17_2', 'F17_3',\n",
       "       'F17_4', 'F17_5', 'F17_6', 'F17_7', 'F1801', 'F1802', 'F1803', 'F19_1',\n",
       "       'F19_2', 'F19_3', 'F19_4', 'F19_5', 'F19_6', 'F21', 'F2201', 'F2202',\n",
       "       'F2203', 'F2204', 'F23', 'F24', 'F28', 'F3001', 'F3002', 'F3003',\n",
       "       'F3004', 'F3005', 'F3006', 'F3007', 'F3701', 'F3702', 'F3703', 'F3704',\n",
       "       'F3705', 'F3706', 'F3707', 'F3708', 'F3709', 'T_S0203', 'K_GESCHLECHT'],\n",
       "      dtype='object')"
      ]
     },
     "execution_count": 13,
     "metadata": {},
     "output_type": "execute_result"
    }
   ],
   "source": [
    "# Check if all columns are correctly in the dataframe\n",
    "selection_df.columns"
   ]
  },
  {
   "cell_type": "markdown",
   "metadata": {},
   "source": [
    "### (a) Preliminary EDA"
   ]
  },
  {
   "cell_type": "code",
   "execution_count": 55,
   "metadata": {},
   "outputs": [
    {
     "data": {
      "text/html": [
       "<div>\n",
       "<style scoped>\n",
       "    .dataframe tbody tr th:only-of-type {\n",
       "        vertical-align: middle;\n",
       "    }\n",
       "\n",
       "    .dataframe tbody tr th {\n",
       "        vertical-align: top;\n",
       "    }\n",
       "\n",
       "    .dataframe thead th {\n",
       "        text-align: right;\n",
       "    }\n",
       "</style>\n",
       "<table border=\"1\" class=\"dataframe\">\n",
       "  <thead>\n",
       "    <tr style=\"text-align: right;\">\n",
       "      <th></th>\n",
       "      <th>F01</th>\n",
       "      <th>F03</th>\n",
       "      <th>F0701</th>\n",
       "      <th>F0702</th>\n",
       "      <th>F0703</th>\n",
       "      <th>F0901</th>\n",
       "      <th>F0902</th>\n",
       "      <th>F0903</th>\n",
       "      <th>F0904</th>\n",
       "      <th>F0905</th>\n",
       "      <th>...</th>\n",
       "      <th>F3702</th>\n",
       "      <th>F3703</th>\n",
       "      <th>F3704</th>\n",
       "      <th>F3705</th>\n",
       "      <th>F3706</th>\n",
       "      <th>F3707</th>\n",
       "      <th>F3708</th>\n",
       "      <th>F3709</th>\n",
       "      <th>T_S0203</th>\n",
       "      <th>K_GESCHLECHT</th>\n",
       "    </tr>\n",
       "  </thead>\n",
       "  <tbody>\n",
       "    <tr>\n",
       "      <th>count</th>\n",
       "      <td>2449.000000</td>\n",
       "      <td>2449.000000</td>\n",
       "      <td>2141.000000</td>\n",
       "      <td>2055.000000</td>\n",
       "      <td>1634.000000</td>\n",
       "      <td>2091.000000</td>\n",
       "      <td>2151.000000</td>\n",
       "      <td>1938.000000</td>\n",
       "      <td>2054.000000</td>\n",
       "      <td>2142.000000</td>\n",
       "      <td>...</td>\n",
       "      <td>2395.000000</td>\n",
       "      <td>2348.000000</td>\n",
       "      <td>2315.000000</td>\n",
       "      <td>2351.000000</td>\n",
       "      <td>2223.000000</td>\n",
       "      <td>2379.000000</td>\n",
       "      <td>2369.000000</td>\n",
       "      <td>2223.000000</td>\n",
       "      <td>2449.000000</td>\n",
       "      <td>2449.000000</td>\n",
       "    </tr>\n",
       "    <tr>\n",
       "      <th>mean</th>\n",
       "      <td>19.085749</td>\n",
       "      <td>12.527971</td>\n",
       "      <td>3.573564</td>\n",
       "      <td>3.500243</td>\n",
       "      <td>3.189718</td>\n",
       "      <td>3.316595</td>\n",
       "      <td>3.540679</td>\n",
       "      <td>3.469556</td>\n",
       "      <td>3.089094</td>\n",
       "      <td>3.754902</td>\n",
       "      <td>...</td>\n",
       "      <td>4.531524</td>\n",
       "      <td>3.997871</td>\n",
       "      <td>4.024190</td>\n",
       "      <td>4.260315</td>\n",
       "      <td>2.619883</td>\n",
       "      <td>4.266078</td>\n",
       "      <td>3.664837</td>\n",
       "      <td>1.654521</td>\n",
       "      <td>1.361780</td>\n",
       "      <td>1.589628</td>\n",
       "    </tr>\n",
       "    <tr>\n",
       "      <th>std</th>\n",
       "      <td>120.067798</td>\n",
       "      <td>98.180182</td>\n",
       "      <td>0.763558</td>\n",
       "      <td>0.775021</td>\n",
       "      <td>0.932895</td>\n",
       "      <td>0.708261</td>\n",
       "      <td>0.704864</td>\n",
       "      <td>0.669686</td>\n",
       "      <td>0.861781</td>\n",
       "      <td>0.590412</td>\n",
       "      <td>...</td>\n",
       "      <td>1.150782</td>\n",
       "      <td>1.488915</td>\n",
       "      <td>1.596323</td>\n",
       "      <td>1.419722</td>\n",
       "      <td>1.836695</td>\n",
       "      <td>1.279747</td>\n",
       "      <td>1.413300</td>\n",
       "      <td>1.147272</td>\n",
       "      <td>0.480614</td>\n",
       "      <td>0.492002</td>\n",
       "    </tr>\n",
       "    <tr>\n",
       "      <th>min</th>\n",
       "      <td>1.000000</td>\n",
       "      <td>1.000000</td>\n",
       "      <td>1.000000</td>\n",
       "      <td>1.000000</td>\n",
       "      <td>1.000000</td>\n",
       "      <td>1.000000</td>\n",
       "      <td>1.000000</td>\n",
       "      <td>1.000000</td>\n",
       "      <td>1.000000</td>\n",
       "      <td>1.000000</td>\n",
       "      <td>...</td>\n",
       "      <td>1.000000</td>\n",
       "      <td>1.000000</td>\n",
       "      <td>1.000000</td>\n",
       "      <td>1.000000</td>\n",
       "      <td>1.000000</td>\n",
       "      <td>1.000000</td>\n",
       "      <td>1.000000</td>\n",
       "      <td>1.000000</td>\n",
       "      <td>1.000000</td>\n",
       "      <td>1.000000</td>\n",
       "    </tr>\n",
       "    <tr>\n",
       "      <th>25%</th>\n",
       "      <td>4.000000</td>\n",
       "      <td>1.000000</td>\n",
       "      <td>3.000000</td>\n",
       "      <td>3.000000</td>\n",
       "      <td>3.000000</td>\n",
       "      <td>3.000000</td>\n",
       "      <td>3.000000</td>\n",
       "      <td>3.000000</td>\n",
       "      <td>3.000000</td>\n",
       "      <td>4.000000</td>\n",
       "      <td>...</td>\n",
       "      <td>5.000000</td>\n",
       "      <td>3.000000</td>\n",
       "      <td>4.000000</td>\n",
       "      <td>4.000000</td>\n",
       "      <td>1.000000</td>\n",
       "      <td>4.000000</td>\n",
       "      <td>2.000000</td>\n",
       "      <td>1.000000</td>\n",
       "      <td>1.000000</td>\n",
       "      <td>1.000000</td>\n",
       "    </tr>\n",
       "    <tr>\n",
       "      <th>50%</th>\n",
       "      <td>4.000000</td>\n",
       "      <td>2.000000</td>\n",
       "      <td>4.000000</td>\n",
       "      <td>4.000000</td>\n",
       "      <td>3.000000</td>\n",
       "      <td>3.000000</td>\n",
       "      <td>4.000000</td>\n",
       "      <td>4.000000</td>\n",
       "      <td>3.000000</td>\n",
       "      <td>4.000000</td>\n",
       "      <td>...</td>\n",
       "      <td>5.000000</td>\n",
       "      <td>5.000000</td>\n",
       "      <td>5.000000</td>\n",
       "      <td>5.000000</td>\n",
       "      <td>1.000000</td>\n",
       "      <td>5.000000</td>\n",
       "      <td>4.000000</td>\n",
       "      <td>1.000000</td>\n",
       "      <td>1.000000</td>\n",
       "      <td>2.000000</td>\n",
       "    </tr>\n",
       "    <tr>\n",
       "      <th>75%</th>\n",
       "      <td>4.000000</td>\n",
       "      <td>4.000000</td>\n",
       "      <td>4.000000</td>\n",
       "      <td>4.000000</td>\n",
       "      <td>4.000000</td>\n",
       "      <td>4.000000</td>\n",
       "      <td>4.000000</td>\n",
       "      <td>4.000000</td>\n",
       "      <td>4.000000</td>\n",
       "      <td>4.000000</td>\n",
       "      <td>...</td>\n",
       "      <td>5.000000</td>\n",
       "      <td>5.000000</td>\n",
       "      <td>5.000000</td>\n",
       "      <td>5.000000</td>\n",
       "      <td>5.000000</td>\n",
       "      <td>5.000000</td>\n",
       "      <td>5.000000</td>\n",
       "      <td>2.000000</td>\n",
       "      <td>2.000000</td>\n",
       "      <td>2.000000</td>\n",
       "    </tr>\n",
       "    <tr>\n",
       "      <th>max</th>\n",
       "      <td>999.000000</td>\n",
       "      <td>999.000000</td>\n",
       "      <td>4.000000</td>\n",
       "      <td>4.000000</td>\n",
       "      <td>4.000000</td>\n",
       "      <td>4.000000</td>\n",
       "      <td>4.000000</td>\n",
       "      <td>4.000000</td>\n",
       "      <td>4.000000</td>\n",
       "      <td>4.000000</td>\n",
       "      <td>...</td>\n",
       "      <td>5.000000</td>\n",
       "      <td>5.000000</td>\n",
       "      <td>5.000000</td>\n",
       "      <td>5.000000</td>\n",
       "      <td>5.000000</td>\n",
       "      <td>5.000000</td>\n",
       "      <td>5.000000</td>\n",
       "      <td>5.000000</td>\n",
       "      <td>2.000000</td>\n",
       "      <td>2.000000</td>\n",
       "    </tr>\n",
       "  </tbody>\n",
       "</table>\n",
       "<p>8 rows × 79 columns</p>\n",
       "</div>"
      ],
      "text/plain": [
       "               F01          F03        F0701        F0702        F0703  \\\n",
       "count  2449.000000  2449.000000  2141.000000  2055.000000  1634.000000   \n",
       "mean     19.085749    12.527971     3.573564     3.500243     3.189718   \n",
       "std     120.067798    98.180182     0.763558     0.775021     0.932895   \n",
       "min       1.000000     1.000000     1.000000     1.000000     1.000000   \n",
       "25%       4.000000     1.000000     3.000000     3.000000     3.000000   \n",
       "50%       4.000000     2.000000     4.000000     4.000000     3.000000   \n",
       "75%       4.000000     4.000000     4.000000     4.000000     4.000000   \n",
       "max     999.000000   999.000000     4.000000     4.000000     4.000000   \n",
       "\n",
       "             F0901        F0902        F0903        F0904        F0905  ...  \\\n",
       "count  2091.000000  2151.000000  1938.000000  2054.000000  2142.000000  ...   \n",
       "mean      3.316595     3.540679     3.469556     3.089094     3.754902  ...   \n",
       "std       0.708261     0.704864     0.669686     0.861781     0.590412  ...   \n",
       "min       1.000000     1.000000     1.000000     1.000000     1.000000  ...   \n",
       "25%       3.000000     3.000000     3.000000     3.000000     4.000000  ...   \n",
       "50%       3.000000     4.000000     4.000000     3.000000     4.000000  ...   \n",
       "75%       4.000000     4.000000     4.000000     4.000000     4.000000  ...   \n",
       "max       4.000000     4.000000     4.000000     4.000000     4.000000  ...   \n",
       "\n",
       "             F3702        F3703        F3704        F3705        F3706  \\\n",
       "count  2395.000000  2348.000000  2315.000000  2351.000000  2223.000000   \n",
       "mean      4.531524     3.997871     4.024190     4.260315     2.619883   \n",
       "std       1.150782     1.488915     1.596323     1.419722     1.836695   \n",
       "min       1.000000     1.000000     1.000000     1.000000     1.000000   \n",
       "25%       5.000000     3.000000     4.000000     4.000000     1.000000   \n",
       "50%       5.000000     5.000000     5.000000     5.000000     1.000000   \n",
       "75%       5.000000     5.000000     5.000000     5.000000     5.000000   \n",
       "max       5.000000     5.000000     5.000000     5.000000     5.000000   \n",
       "\n",
       "             F3707        F3708        F3709      T_S0203  K_GESCHLECHT  \n",
       "count  2379.000000  2369.000000  2223.000000  2449.000000   2449.000000  \n",
       "mean      4.266078     3.664837     1.654521     1.361780      1.589628  \n",
       "std       1.279747     1.413300     1.147272     0.480614      0.492002  \n",
       "min       1.000000     1.000000     1.000000     1.000000      1.000000  \n",
       "25%       4.000000     2.000000     1.000000     1.000000      1.000000  \n",
       "50%       5.000000     4.000000     1.000000     1.000000      2.000000  \n",
       "75%       5.000000     5.000000     2.000000     2.000000      2.000000  \n",
       "max       5.000000     5.000000     5.000000     2.000000      2.000000  \n",
       "\n",
       "[8 rows x 79 columns]"
      ]
     },
     "execution_count": 55,
     "metadata": {},
     "output_type": "execute_result"
    }
   ],
   "source": [
    "### Check the descriptive statistics of the selected features:\n",
    "selection_df.describe()"
   ]
  },
  {
   "cell_type": "markdown",
   "metadata": {},
   "source": [
    "The mean value and standard deviation do not give us lots of information. However, the 25%, 50% and 75% percentile give us more information about where most information is located (many columns have 50% of the values at the maximum value which is the highest satisfaction)."
   ]
  },
  {
   "cell_type": "code",
   "execution_count": 14,
   "metadata": {},
   "outputs": [
    {
     "data": {
      "text/plain": [
       "count    2391.000000\n",
       "mean        1.503555\n",
       "std         0.679564\n",
       "min         1.000000\n",
       "25%         1.000000\n",
       "50%         1.000000\n",
       "75%         2.000000\n",
       "max         4.000000\n",
       "Name: F15, dtype: float64"
      ]
     },
     "execution_count": 14,
     "metadata": {},
     "output_type": "execute_result"
    }
   ],
   "source": [
    "# Details about dependant variable:\n",
    "selection_df['F15'].describe()"
   ]
  },
  {
   "cell_type": "markdown",
   "metadata": {},
   "source": [
    "**Observation:** The highest value is 4, which means 'never' in this case. There is nobody who replied 'Don't know' which is registered as 999. Most of the people replied with 1 = 'very often'. Let's look at the missing values:"
   ]
  },
  {
   "cell_type": "code",
   "execution_count": 15,
   "metadata": {},
   "outputs": [
    {
     "data": {
      "text/plain": [
       "58"
      ]
     },
     "execution_count": 15,
     "metadata": {},
     "output_type": "execute_result"
    }
   ],
   "source": [
    "selection_df['F15'].isna().sum()"
   ]
  },
  {
   "cell_type": "markdown",
   "metadata": {},
   "source": [
    "**Observation:** There are 58 missing values which is 2.4% of the entire dataset. We could replace them either with the mode or using an imputation algorithm like the IterativeImputer from sklearn: <br> https://scikit-learn.org/stable/modules/impute.html"
   ]
  },
  {
   "cell_type": "code",
   "execution_count": 62,
   "metadata": {},
   "outputs": [
    {
     "data": {
      "text/plain": [
       "1.0    58.134672\n",
       "2.0    35.466332\n",
       "3.0     4.307821\n",
       "4.0     2.091175\n",
       "Name: F15, dtype: float64"
      ]
     },
     "execution_count": 62,
     "metadata": {},
     "output_type": "execute_result"
    }
   ],
   "source": [
    "# Percentage of each answer for the dependant variable:\n",
    "selection_df['F15'].value_counts(normalize=True)*100"
   ]
  },
  {
   "cell_type": "markdown",
   "metadata": {},
   "source": [
    "**Observation:** over 90% feel lonely quite or very often. "
   ]
  },
  {
   "cell_type": "code",
   "execution_count": 63,
   "metadata": {},
   "outputs": [
    {
     "data": {
      "text/plain": [
       "3.0    52.242525\n",
       "4.0    32.765781\n",
       "2.0    12.790698\n",
       "1.0     2.200997\n",
       "Name: F21, dtype: float64"
      ]
     },
     "execution_count": 63,
     "metadata": {},
     "output_type": "execute_result"
    }
   ],
   "source": [
    "# Check another variable about health (Q21):\n",
    "selection_df['F21'].value_counts(normalize=True)*100"
   ]
  },
  {
   "cell_type": "markdown",
   "metadata": {},
   "source": [
    "**Observation:** 85% feel quite or very healthy. This number is a bit lower and might be better to use for predictions. "
   ]
  },
  {
   "cell_type": "markdown",
   "metadata": {},
   "source": [
    "#### Plots of some of the features:"
   ]
  },
  {
   "cell_type": "code",
   "execution_count": 65,
   "metadata": {},
   "outputs": [
    {
     "data": {
      "image/png": "[encoded data removed]",
      "text/plain": [
       "<Figure size 640x480 with 1 Axes>"
      ]
     },
     "metadata": {},
     "output_type": "display_data"
    }
   ],
   "source": [
    "# Bar plot of dependant variable:\n",
    "selection_df['F15'].value_counts().plot.bar(color='purple')\n",
    "\n",
    "plt.title('How often do you feel lonely? ')\n",
    "plt.xticks(np.arange(4), ['Very often', 'Quite often', 'Sometimes', 'Never'], rotation=20)\n",
    "plt.ylabel('Number of people')\n",
    "plt.xlabel('Scale of lonelyness (very often to never)')\n",
    "plt.show()"
   ]
  },
  {
   "cell_type": "markdown",
   "metadata": {},
   "source": [
    "**Observation:** As seen from the descriptive statistics, most people replied with 1 - 'very often'. The plot shows that there is a big proprotion of the data in the 1 and 2, meaning 'very often' and 'quite often' and only a few people who never feel lonely."
   ]
  },
  {
   "cell_type": "markdown",
   "metadata": {},
   "source": [
    "**Plots:** I'll first plot all the questions which do not have various sub-questions, this means they have only a 2 digit number. For this I'll set up a function to get the answer code from the code list. "
   ]
  },
  {
   "cell_type": "code",
   "execution_count": 17,
   "metadata": {},
   "outputs": [
    {
     "data": {
      "text/plain": [
       "Index(['F01', 'F03', 'F0701', 'F0702', 'F0703', 'F0901', 'F0902', 'F0903',\n",
       "       'F0904', 'F0905', 'F0906', 'F0907', 'F0910', 'F0911', 'F0912', 'F0913',\n",
       "       'F10', 'F1201', 'F1202', 'F1203', 'F1204', 'F1205', 'F1206', 'F1301',\n",
       "       'F1302', 'F1303', 'F1304', 'F1305', 'F1306', 'F1401', 'F1402', 'F1403',\n",
       "       'F1404', 'F1405', 'F1406', 'F15', 'F16', 'F17_1', 'F17_2', 'F17_3',\n",
       "       'F17_4', 'F17_5', 'F17_6', 'F17_7', 'F1801', 'F1802', 'F1803', 'F19_1',\n",
       "       'F19_2', 'F19_3', 'F19_4', 'F19_5', 'F19_6', 'F21', 'F2201', 'F2202',\n",
       "       'F2203', 'F2204', 'F23', 'F24', 'F28', 'F3001', 'F3002', 'F3003',\n",
       "       'F3004', 'F3005', 'F3006', 'F3007', 'F3701', 'F3702', 'F3703', 'F3704',\n",
       "       'F3705', 'F3706', 'F3707', 'F3708', 'F3709', 'T_S0203', 'K_GESCHLECHT'],\n",
       "      dtype='object')"
      ]
     },
     "execution_count": 17,
     "metadata": {},
     "output_type": "execute_result"
    }
   ],
   "source": [
    "# Check column names\n",
    "selection_df.columns"
   ]
  },
  {
   "cell_type": "code",
   "execution_count": 18,
   "metadata": {},
   "outputs": [
    {
     "name": "stdout",
     "output_type": "stream",
     "text": [
      "Sehr ungern\n"
     ]
    }
   ],
   "source": [
    "# Test with an example:\n",
    "# Iterating over every row:\n",
    "for idx, row in code_list.iterrows():\n",
    "    # Selecting the question:\n",
    "    if row['Frage_Code'] == 'F01':\n",
    "       # Selecting the answer (here as an example == 1\n",
    "        if row['Antwort_Code'] == 1:\n",
    "            # Print the written answer of the number\n",
    "            print(row['Antwort_Beschreibung'])     "
   ]
  },
  {
   "cell_type": "code",
   "execution_count": 19,
   "metadata": {},
   "outputs": [],
   "source": [
    "# Set up function to look up the witten answer value:\n",
    "def look_up_answer_value(FrageCode, AntwortCode):\n",
    "    for idx, row in code_list.iterrows():\n",
    "        if row['Frage_Code'] == FrageCode:\n",
    "            if row['Antwort_Code'] == AntwortCode:\n",
    "                return(row['Antwort_Beschreibung'])    "
   ]
  },
  {
   "cell_type": "code",
   "execution_count": 20,
   "metadata": {},
   "outputs": [
    {
     "name": "stdout",
     "output_type": "stream",
     "text": [
      "['Sehr gerne', 'Eher gerne', 'Sehr ungern', 'Eher ungern', 'Keine Angabe', 'Weiss nicht']\n"
     ]
    }
   ],
   "source": [
    "# Test to get all answers:\n",
    "output = []\n",
    "for item in selection_df['F01'].value_counts().index:\n",
    "    v = look_up_answer_value('F01', item)\n",
    "    output.append(v)\n",
    "    \n",
    "print(output)"
   ]
  },
  {
   "cell_type": "code",
   "execution_count": 21,
   "metadata": {},
   "outputs": [],
   "source": [
    "# Define final function to look up answer giving the question, including the function to look up the answer:\n",
    "def question_look_up_answer(FrageCode):\n",
    "    output = []\n",
    "    for item in selection_df[FrageCode].value_counts().index:\n",
    "        answer_tx = look_up_answer_value(FrageCode, item)\n",
    "        # Add a limitation of 15 characters - to avoid too long answers in the plots:\n",
    "        if len(answer_tx) > 15:\n",
    "            answer_tx = answer_tx[:15]\n",
    "        output.append(answer_tx)\n",
    "    return(output)"
   ]
  },
  {
   "cell_type": "code",
   "execution_count": 22,
   "metadata": {},
   "outputs": [
    {
     "data": {
      "text/plain": [
       "['Mietwohnung',\n",
       " 'Genossenschafts',\n",
       " 'eigenen Wohnung',\n",
       " 'Alterseinrichtu',\n",
       " 'eigenen Haus (E',\n",
       " 'Wohnung in eine',\n",
       " 'gemieteten Haus',\n",
       " 'Keine Angabe']"
      ]
     },
     "execution_count": 22,
     "metadata": {},
     "output_type": "execute_result"
    }
   ],
   "source": [
    "# Check for question 3:\n",
    "question_look_up_answer('F03')"
   ]
  },
  {
   "cell_type": "code",
   "execution_count": 23,
   "metadata": {},
   "outputs": [],
   "source": [
    "def get_title(question_code):\n",
    "    for i, row in code_list.iterrows():\n",
    "        if row['Frage_Code'] == question_code:\n",
    "            title = row['Frage_Titel']\n",
    "    return(title)"
   ]
  },
  {
   "cell_type": "code",
   "execution_count": 24,
   "metadata": {},
   "outputs": [
    {
     "name": "stderr",
     "output_type": "stream",
     "text": [
      "/tmp/ipykernel_5362/824534638.py:15: UserWarning: FixedFormatter should only be used together with FixedLocator\n",
      "  axs[count_ax].set_xticklabels(question_look_up_answer(col), ha='right', rotation=60, fontsize=8)\n"
     ]
    },
    {
     "data": {
      "image/png": "[encoded data removed]",
      "text/plain": [
       "<Figure size 1000x800 with 9 Axes>"
      ]
     },
     "metadata": {},
     "output_type": "display_data"
    }
   ],
   "source": [
    "# Plot all the questions and answers of single questions:\n",
    "\n",
    "# Set up subplot and flatten axis to get 1-D\n",
    "fig, axs = plt.subplots(ncols=3, nrows=3, figsize=(10,8))\n",
    "axs = axs.flat  \n",
    "\n",
    "# Counter for axis:\n",
    "count_ax = 0\n",
    "\n",
    "for ax, col in enumerate(selection_df.columns):\n",
    "    # Condition for single questions with F + 2 digits:\n",
    "    if len(col) <=3:\n",
    "        axs[count_ax].bar(selection_df[col].value_counts().index.astype(str), selection_df[col].value_counts())\n",
    "        # Set x ticks rotated and smaller\n",
    "        axs[count_ax].set_xticklabels(question_look_up_answer(col), ha='right', rotation=60, fontsize=8)\n",
    "        # Set title:\n",
    "        axs[count_ax].set_title(get_title(col), fontsize=10) \n",
    "        #for i, row in code_list.iterrows():\n",
    "        #titel = row['Frage_Titel']\n",
    "        #axs[count_ax].set_title('Question {}'.format(col), fontsize=10)\n",
    "            #axs[count_ax].set_title(row['Frage_Titel'], fontsize=10)\n",
    "        count_ax += 1\n",
    "        \n",
    "plt.tight_layout()"
   ]
  },
  {
   "cell_type": "markdown",
   "metadata": {},
   "source": [
    "**Observation:** We cannot directly see the relation between feautures, however, the answers have a tendency to be more positive. Many participants feel good living in the city, have a good health and are happy with the health institutions. Most people live in an appartement and most of them do not need to support a person with dementia."
   ]
  },
  {
   "cell_type": "markdown",
   "metadata": {},
   "source": [
    "##### **Next, plotting some of the questions with sub-questions:**"
   ]
  },
  {
   "cell_type": "markdown",
   "metadata": {},
   "source": [
    "**First, I plot the answers of question 7 which enregistred the satisfaction with the living situation:**"
   ]
  },
  {
   "cell_type": "code",
   "execution_count": 25,
   "metadata": {
    "tags": []
   },
   "outputs": [
    {
     "data": {
      "text/html": [
       "<div>\n",
       "<style scoped>\n",
       "    .dataframe tbody tr th:only-of-type {\n",
       "        vertical-align: middle;\n",
       "    }\n",
       "\n",
       "    .dataframe tbody tr th {\n",
       "        vertical-align: top;\n",
       "    }\n",
       "\n",
       "    .dataframe thead th {\n",
       "        text-align: right;\n",
       "    }\n",
       "</style>\n",
       "<table border=\"1\" class=\"dataframe\">\n",
       "  <thead>\n",
       "    <tr style=\"text-align: right;\">\n",
       "      <th></th>\n",
       "      <th>0.0</th>\n",
       "      <th>1.0</th>\n",
       "      <th>2.0</th>\n",
       "      <th>3.0</th>\n",
       "      <th>4.0</th>\n",
       "      <th>5.0</th>\n",
       "      <th>6.0</th>\n",
       "      <th>7.0</th>\n",
       "      <th>888.0</th>\n",
       "      <th>999.0</th>\n",
       "    </tr>\n",
       "  </thead>\n",
       "  <tbody>\n",
       "    <tr>\n",
       "      <th>F01</th>\n",
       "      <td>NaN</td>\n",
       "      <td>113.0</td>\n",
       "      <td>47.0</td>\n",
       "      <td>424.0</td>\n",
       "      <td>1825.0</td>\n",
       "      <td>NaN</td>\n",
       "      <td>NaN</td>\n",
       "      <td>NaN</td>\n",
       "      <td>18.0</td>\n",
       "      <td>22.0</td>\n",
       "    </tr>\n",
       "    <tr>\n",
       "      <th>F03</th>\n",
       "      <td>NaN</td>\n",
       "      <td>1085.0</td>\n",
       "      <td>454.0</td>\n",
       "      <td>26.0</td>\n",
       "      <td>310.0</td>\n",
       "      <td>177.0</td>\n",
       "      <td>102.0</td>\n",
       "      <td>271.0</td>\n",
       "      <td>NaN</td>\n",
       "      <td>24.0</td>\n",
       "    </tr>\n",
       "    <tr>\n",
       "      <th>F0701</th>\n",
       "      <td>NaN</td>\n",
       "      <td>99.0</td>\n",
       "      <td>65.0</td>\n",
       "      <td>486.0</td>\n",
       "      <td>1491.0</td>\n",
       "      <td>NaN</td>\n",
       "      <td>NaN</td>\n",
       "      <td>NaN</td>\n",
       "      <td>NaN</td>\n",
       "      <td>NaN</td>\n",
       "    </tr>\n",
       "    <tr>\n",
       "      <th>F0702</th>\n",
       "      <td>NaN</td>\n",
       "      <td>87.0</td>\n",
       "      <td>99.0</td>\n",
       "      <td>568.0</td>\n",
       "      <td>1301.0</td>\n",
       "      <td>NaN</td>\n",
       "      <td>NaN</td>\n",
       "      <td>NaN</td>\n",
       "      <td>NaN</td>\n",
       "      <td>NaN</td>\n",
       "    </tr>\n",
       "    <tr>\n",
       "      <th>F0703</th>\n",
       "      <td>NaN</td>\n",
       "      <td>143.0</td>\n",
       "      <td>156.0</td>\n",
       "      <td>583.0</td>\n",
       "      <td>752.0</td>\n",
       "      <td>NaN</td>\n",
       "      <td>NaN</td>\n",
       "      <td>NaN</td>\n",
       "      <td>NaN</td>\n",
       "      <td>NaN</td>\n",
       "    </tr>\n",
       "    <tr>\n",
       "      <th>...</th>\n",
       "      <td>...</td>\n",
       "      <td>...</td>\n",
       "      <td>...</td>\n",
       "      <td>...</td>\n",
       "      <td>...</td>\n",
       "      <td>...</td>\n",
       "      <td>...</td>\n",
       "      <td>...</td>\n",
       "      <td>...</td>\n",
       "      <td>...</td>\n",
       "    </tr>\n",
       "    <tr>\n",
       "      <th>F3707</th>\n",
       "      <td>NaN</td>\n",
       "      <td>198.0</td>\n",
       "      <td>159.0</td>\n",
       "      <td>50.0</td>\n",
       "      <td>377.0</td>\n",
       "      <td>1595.0</td>\n",
       "      <td>NaN</td>\n",
       "      <td>NaN</td>\n",
       "      <td>NaN</td>\n",
       "      <td>NaN</td>\n",
       "    </tr>\n",
       "    <tr>\n",
       "      <th>F3708</th>\n",
       "      <td>NaN</td>\n",
       "      <td>189.0</td>\n",
       "      <td>509.0</td>\n",
       "      <td>234.0</td>\n",
       "      <td>412.0</td>\n",
       "      <td>1025.0</td>\n",
       "      <td>NaN</td>\n",
       "      <td>NaN</td>\n",
       "      <td>NaN</td>\n",
       "      <td>NaN</td>\n",
       "    </tr>\n",
       "    <tr>\n",
       "      <th>F3709</th>\n",
       "      <td>NaN</td>\n",
       "      <td>1483.0</td>\n",
       "      <td>399.0</td>\n",
       "      <td>89.0</td>\n",
       "      <td>130.0</td>\n",
       "      <td>122.0</td>\n",
       "      <td>NaN</td>\n",
       "      <td>NaN</td>\n",
       "      <td>NaN</td>\n",
       "      <td>NaN</td>\n",
       "    </tr>\n",
       "    <tr>\n",
       "      <th>T_S0203</th>\n",
       "      <td>NaN</td>\n",
       "      <td>1563.0</td>\n",
       "      <td>886.0</td>\n",
       "      <td>NaN</td>\n",
       "      <td>NaN</td>\n",
       "      <td>NaN</td>\n",
       "      <td>NaN</td>\n",
       "      <td>NaN</td>\n",
       "      <td>NaN</td>\n",
       "      <td>NaN</td>\n",
       "    </tr>\n",
       "    <tr>\n",
       "      <th>K_GESCHLECHT</th>\n",
       "      <td>NaN</td>\n",
       "      <td>1005.0</td>\n",
       "      <td>1444.0</td>\n",
       "      <td>NaN</td>\n",
       "      <td>NaN</td>\n",
       "      <td>NaN</td>\n",
       "      <td>NaN</td>\n",
       "      <td>NaN</td>\n",
       "      <td>NaN</td>\n",
       "      <td>NaN</td>\n",
       "    </tr>\n",
       "  </tbody>\n",
       "</table>\n",
       "<p>79 rows × 10 columns</p>\n",
       "</div>"
      ],
      "text/plain": [
       "              0.0     1.0     2.0    3.0     4.0     5.0    6.0    7.0    \\\n",
       "F01             NaN   113.0    47.0  424.0  1825.0     NaN    NaN    NaN   \n",
       "F03             NaN  1085.0   454.0   26.0   310.0   177.0  102.0  271.0   \n",
       "F0701           NaN    99.0    65.0  486.0  1491.0     NaN    NaN    NaN   \n",
       "F0702           NaN    87.0    99.0  568.0  1301.0     NaN    NaN    NaN   \n",
       "F0703           NaN   143.0   156.0  583.0   752.0     NaN    NaN    NaN   \n",
       "...             ...     ...     ...    ...     ...     ...    ...    ...   \n",
       "F3707           NaN   198.0   159.0   50.0   377.0  1595.0    NaN    NaN   \n",
       "F3708           NaN   189.0   509.0  234.0   412.0  1025.0    NaN    NaN   \n",
       "F3709           NaN  1483.0   399.0   89.0   130.0   122.0    NaN    NaN   \n",
       "T_S0203         NaN  1563.0   886.0    NaN     NaN     NaN    NaN    NaN   \n",
       "K_GESCHLECHT    NaN  1005.0  1444.0    NaN     NaN     NaN    NaN    NaN   \n",
       "\n",
       "              888.0  999.0  \n",
       "F01            18.0   22.0  \n",
       "F03             NaN   24.0  \n",
       "F0701           NaN    NaN  \n",
       "F0702           NaN    NaN  \n",
       "F0703           NaN    NaN  \n",
       "...             ...    ...  \n",
       "F3707           NaN    NaN  \n",
       "F3708           NaN    NaN  \n",
       "F3709           NaN    NaN  \n",
       "T_S0203         NaN    NaN  \n",
       "K_GESCHLECHT    NaN    NaN  \n",
       "\n",
       "[79 rows x 10 columns]"
      ]
     },
     "execution_count": 25,
     "metadata": {},
     "output_type": "execute_result"
    }
   ],
   "source": [
    "# Make a dataframe with all the values counted for further analysis\n",
    "counted_values = []\n",
    "for col in selection_df: \n",
    "    counted_values.append(selection_df[col].value_counts())\n",
    "df_counts = pd.DataFrame(counted_values)\n",
    "df_counts"
   ]
  },
  {
   "cell_type": "code",
   "execution_count": 26,
   "metadata": {},
   "outputs": [
    {
     "data": {
      "text/html": [
       "<div>\n",
       "<style scoped>\n",
       "    .dataframe tbody tr th:only-of-type {\n",
       "        vertical-align: middle;\n",
       "    }\n",
       "\n",
       "    .dataframe tbody tr th {\n",
       "        vertical-align: top;\n",
       "    }\n",
       "\n",
       "    .dataframe thead th {\n",
       "        text-align: right;\n",
       "    }\n",
       "</style>\n",
       "<table border=\"1\" class=\"dataframe\">\n",
       "  <thead>\n",
       "    <tr style=\"text-align: right;\">\n",
       "      <th></th>\n",
       "      <th>0.0</th>\n",
       "      <th>1.0</th>\n",
       "      <th>2.0</th>\n",
       "      <th>3.0</th>\n",
       "      <th>4.0</th>\n",
       "      <th>5.0</th>\n",
       "      <th>6.0</th>\n",
       "      <th>7.0</th>\n",
       "      <th>888.0</th>\n",
       "      <th>999.0</th>\n",
       "    </tr>\n",
       "  </thead>\n",
       "  <tbody>\n",
       "    <tr>\n",
       "      <th>F17_1</th>\n",
       "      <td>1929.0</td>\n",
       "      <td>249.0</td>\n",
       "      <td>NaN</td>\n",
       "      <td>NaN</td>\n",
       "      <td>NaN</td>\n",
       "      <td>NaN</td>\n",
       "      <td>NaN</td>\n",
       "      <td>NaN</td>\n",
       "      <td>NaN</td>\n",
       "      <td>NaN</td>\n",
       "    </tr>\n",
       "    <tr>\n",
       "      <th>F17_2</th>\n",
       "      <td>2093.0</td>\n",
       "      <td>85.0</td>\n",
       "      <td>NaN</td>\n",
       "      <td>NaN</td>\n",
       "      <td>NaN</td>\n",
       "      <td>NaN</td>\n",
       "      <td>NaN</td>\n",
       "      <td>NaN</td>\n",
       "      <td>NaN</td>\n",
       "      <td>NaN</td>\n",
       "    </tr>\n",
       "    <tr>\n",
       "      <th>F17_3</th>\n",
       "      <td>1985.0</td>\n",
       "      <td>193.0</td>\n",
       "      <td>NaN</td>\n",
       "      <td>NaN</td>\n",
       "      <td>NaN</td>\n",
       "      <td>NaN</td>\n",
       "      <td>NaN</td>\n",
       "      <td>NaN</td>\n",
       "      <td>NaN</td>\n",
       "      <td>NaN</td>\n",
       "    </tr>\n",
       "    <tr>\n",
       "      <th>F17_4</th>\n",
       "      <td>2079.0</td>\n",
       "      <td>99.0</td>\n",
       "      <td>NaN</td>\n",
       "      <td>NaN</td>\n",
       "      <td>NaN</td>\n",
       "      <td>NaN</td>\n",
       "      <td>NaN</td>\n",
       "      <td>NaN</td>\n",
       "      <td>NaN</td>\n",
       "      <td>NaN</td>\n",
       "    </tr>\n",
       "    <tr>\n",
       "      <th>F17_5</th>\n",
       "      <td>714.0</td>\n",
       "      <td>1464.0</td>\n",
       "      <td>NaN</td>\n",
       "      <td>NaN</td>\n",
       "      <td>NaN</td>\n",
       "      <td>NaN</td>\n",
       "      <td>NaN</td>\n",
       "      <td>NaN</td>\n",
       "      <td>NaN</td>\n",
       "      <td>NaN</td>\n",
       "    </tr>\n",
       "    <tr>\n",
       "      <th>F17_6</th>\n",
       "      <td>2030.0</td>\n",
       "      <td>148.0</td>\n",
       "      <td>NaN</td>\n",
       "      <td>NaN</td>\n",
       "      <td>NaN</td>\n",
       "      <td>NaN</td>\n",
       "      <td>NaN</td>\n",
       "      <td>NaN</td>\n",
       "      <td>NaN</td>\n",
       "      <td>NaN</td>\n",
       "    </tr>\n",
       "    <tr>\n",
       "      <th>F17_7</th>\n",
       "      <td>2092.0</td>\n",
       "      <td>86.0</td>\n",
       "      <td>NaN</td>\n",
       "      <td>NaN</td>\n",
       "      <td>NaN</td>\n",
       "      <td>NaN</td>\n",
       "      <td>NaN</td>\n",
       "      <td>NaN</td>\n",
       "      <td>NaN</td>\n",
       "      <td>NaN</td>\n",
       "    </tr>\n",
       "    <tr>\n",
       "      <th>F19_1</th>\n",
       "      <td>1924.0</td>\n",
       "      <td>254.0</td>\n",
       "      <td>NaN</td>\n",
       "      <td>NaN</td>\n",
       "      <td>NaN</td>\n",
       "      <td>NaN</td>\n",
       "      <td>NaN</td>\n",
       "      <td>NaN</td>\n",
       "      <td>NaN</td>\n",
       "      <td>NaN</td>\n",
       "    </tr>\n",
       "    <tr>\n",
       "      <th>F19_2</th>\n",
       "      <td>2028.0</td>\n",
       "      <td>150.0</td>\n",
       "      <td>NaN</td>\n",
       "      <td>NaN</td>\n",
       "      <td>NaN</td>\n",
       "      <td>NaN</td>\n",
       "      <td>NaN</td>\n",
       "      <td>NaN</td>\n",
       "      <td>NaN</td>\n",
       "      <td>NaN</td>\n",
       "    </tr>\n",
       "    <tr>\n",
       "      <th>F19_3</th>\n",
       "      <td>2125.0</td>\n",
       "      <td>53.0</td>\n",
       "      <td>NaN</td>\n",
       "      <td>NaN</td>\n",
       "      <td>NaN</td>\n",
       "      <td>NaN</td>\n",
       "      <td>NaN</td>\n",
       "      <td>NaN</td>\n",
       "      <td>NaN</td>\n",
       "      <td>NaN</td>\n",
       "    </tr>\n",
       "    <tr>\n",
       "      <th>F19_4</th>\n",
       "      <td>495.0</td>\n",
       "      <td>1683.0</td>\n",
       "      <td>NaN</td>\n",
       "      <td>NaN</td>\n",
       "      <td>NaN</td>\n",
       "      <td>NaN</td>\n",
       "      <td>NaN</td>\n",
       "      <td>NaN</td>\n",
       "      <td>NaN</td>\n",
       "      <td>NaN</td>\n",
       "    </tr>\n",
       "    <tr>\n",
       "      <th>F19_5</th>\n",
       "      <td>2153.0</td>\n",
       "      <td>25.0</td>\n",
       "      <td>NaN</td>\n",
       "      <td>NaN</td>\n",
       "      <td>NaN</td>\n",
       "      <td>NaN</td>\n",
       "      <td>NaN</td>\n",
       "      <td>NaN</td>\n",
       "      <td>NaN</td>\n",
       "      <td>NaN</td>\n",
       "    </tr>\n",
       "    <tr>\n",
       "      <th>F19_6</th>\n",
       "      <td>2128.0</td>\n",
       "      <td>50.0</td>\n",
       "      <td>NaN</td>\n",
       "      <td>NaN</td>\n",
       "      <td>NaN</td>\n",
       "      <td>NaN</td>\n",
       "      <td>NaN</td>\n",
       "      <td>NaN</td>\n",
       "      <td>NaN</td>\n",
       "      <td>NaN</td>\n",
       "    </tr>\n",
       "  </tbody>\n",
       "</table>\n",
       "</div>"
      ],
      "text/plain": [
       "        0.0     1.0    2.0    3.0    4.0    5.0    6.0    7.0    888.0  999.0\n",
       "F17_1  1929.0   249.0    NaN    NaN    NaN    NaN    NaN    NaN    NaN    NaN\n",
       "F17_2  2093.0    85.0    NaN    NaN    NaN    NaN    NaN    NaN    NaN    NaN\n",
       "F17_3  1985.0   193.0    NaN    NaN    NaN    NaN    NaN    NaN    NaN    NaN\n",
       "F17_4  2079.0    99.0    NaN    NaN    NaN    NaN    NaN    NaN    NaN    NaN\n",
       "F17_5   714.0  1464.0    NaN    NaN    NaN    NaN    NaN    NaN    NaN    NaN\n",
       "F17_6  2030.0   148.0    NaN    NaN    NaN    NaN    NaN    NaN    NaN    NaN\n",
       "F17_7  2092.0    86.0    NaN    NaN    NaN    NaN    NaN    NaN    NaN    NaN\n",
       "F19_1  1924.0   254.0    NaN    NaN    NaN    NaN    NaN    NaN    NaN    NaN\n",
       "F19_2  2028.0   150.0    NaN    NaN    NaN    NaN    NaN    NaN    NaN    NaN\n",
       "F19_3  2125.0    53.0    NaN    NaN    NaN    NaN    NaN    NaN    NaN    NaN\n",
       "F19_4   495.0  1683.0    NaN    NaN    NaN    NaN    NaN    NaN    NaN    NaN\n",
       "F19_5  2153.0    25.0    NaN    NaN    NaN    NaN    NaN    NaN    NaN    NaN\n",
       "F19_6  2128.0    50.0    NaN    NaN    NaN    NaN    NaN    NaN    NaN    NaN"
      ]
     },
     "execution_count": 26,
     "metadata": {},
     "output_type": "execute_result"
    }
   ],
   "source": [
    "# Check the columns which have values in the 0 column:\n",
    "df_counts[~pd.isna(df_counts[0])]"
   ]
  },
  {
   "cell_type": "markdown",
   "metadata": {},
   "source": [
    "**Observation:** 13 columns include a binary encoding of 0 or 1. It is interesting to see that most of the questions are answered with 0 (=no)."
   ]
  },
  {
   "cell_type": "code",
   "execution_count": 27,
   "metadata": {},
   "outputs": [
    {
     "data": {
      "text/html": [
       "<div>\n",
       "<style scoped>\n",
       "    .dataframe tbody tr th:only-of-type {\n",
       "        vertical-align: middle;\n",
       "    }\n",
       "\n",
       "    .dataframe tbody tr th {\n",
       "        vertical-align: top;\n",
       "    }\n",
       "\n",
       "    .dataframe thead th {\n",
       "        text-align: right;\n",
       "    }\n",
       "</style>\n",
       "<table border=\"1\" class=\"dataframe\">\n",
       "  <thead>\n",
       "    <tr style=\"text-align: right;\">\n",
       "      <th></th>\n",
       "      <th>0.0</th>\n",
       "      <th>1.0</th>\n",
       "      <th>2.0</th>\n",
       "      <th>3.0</th>\n",
       "      <th>4.0</th>\n",
       "      <th>5.0</th>\n",
       "      <th>6.0</th>\n",
       "      <th>7.0</th>\n",
       "      <th>888.0</th>\n",
       "      <th>999.0</th>\n",
       "    </tr>\n",
       "  </thead>\n",
       "  <tbody>\n",
       "    <tr>\n",
       "      <th>F0701</th>\n",
       "      <td>NaN</td>\n",
       "      <td>99.0</td>\n",
       "      <td>65.0</td>\n",
       "      <td>486.0</td>\n",
       "      <td>1491.0</td>\n",
       "      <td>NaN</td>\n",
       "      <td>NaN</td>\n",
       "      <td>NaN</td>\n",
       "      <td>NaN</td>\n",
       "      <td>NaN</td>\n",
       "    </tr>\n",
       "    <tr>\n",
       "      <th>F0702</th>\n",
       "      <td>NaN</td>\n",
       "      <td>87.0</td>\n",
       "      <td>99.0</td>\n",
       "      <td>568.0</td>\n",
       "      <td>1301.0</td>\n",
       "      <td>NaN</td>\n",
       "      <td>NaN</td>\n",
       "      <td>NaN</td>\n",
       "      <td>NaN</td>\n",
       "      <td>NaN</td>\n",
       "    </tr>\n",
       "    <tr>\n",
       "      <th>F0703</th>\n",
       "      <td>NaN</td>\n",
       "      <td>143.0</td>\n",
       "      <td>156.0</td>\n",
       "      <td>583.0</td>\n",
       "      <td>752.0</td>\n",
       "      <td>NaN</td>\n",
       "      <td>NaN</td>\n",
       "      <td>NaN</td>\n",
       "      <td>NaN</td>\n",
       "      <td>NaN</td>\n",
       "    </tr>\n",
       "  </tbody>\n",
       "</table>\n",
       "</div>"
      ],
      "text/plain": [
       "       0.0    1.0    2.0    3.0     4.0    5.0    6.0    7.0    888.0  999.0\n",
       "F0701    NaN   99.0   65.0  486.0  1491.0    NaN    NaN    NaN    NaN    NaN\n",
       "F0702    NaN   87.0   99.0  568.0  1301.0    NaN    NaN    NaN    NaN    NaN\n",
       "F0703    NaN  143.0  156.0  583.0   752.0    NaN    NaN    NaN    NaN    NaN"
      ]
     },
     "execution_count": 27,
     "metadata": {},
     "output_type": "execute_result"
    }
   ],
   "source": [
    "df_counts.loc[['F0701', 'F0702', 'F0703']]"
   ]
  },
  {
   "cell_type": "code",
   "execution_count": 28,
   "metadata": {},
   "outputs": [],
   "source": [
    "df_F7 = df_counts.loc[['F0701', 'F0702', 'F0703']].drop([0.0, 5.0, 6.0, 7.0, 888.0, 999.0], axis=1)"
   ]
  },
  {
   "cell_type": "code",
   "execution_count": 29,
   "metadata": {},
   "outputs": [
    {
     "name": "stdout",
     "output_type": "stream",
     "text": [
      "['Sehr unzufrieden', 'Eher unzufrieden', 'Eher zufrieden', 'Sehr zufrieden']\n"
     ]
    }
   ],
   "source": [
    "# Get a list with answers:\n",
    "answ_list = []\n",
    "for idx in df_F7.index:\n",
    "    for col in df_F7:\n",
    "        answ = look_up_answer_value(idx, col)\n",
    "        answ_list.append(answ)\n",
    "    break   \n",
    "print(answ_list)"
   ]
  },
  {
   "cell_type": "code",
   "execution_count": 30,
   "metadata": {},
   "outputs": [
    {
     "data": {
      "image/png": "[encoded data removed]",
      "text/plain": [
       "<Figure size 640x480 with 1 Axes>"
      ]
     },
     "metadata": {},
     "output_type": "display_data"
    }
   ],
   "source": [
    "# Plot as a stacked bar plot\n",
    "df_F7.plot.barh(stacked=True)\n",
    "plt.title('How satisfied are you with your living situation?')\n",
    "plt.legend(answ_list, bbox_to_anchor=(1, 1))\n",
    "plt.yticks(np.arange(3), ['House/appart', 'Neighborhood', 'Size of house/appart'])\n",
    "\n",
    "plt.show()"
   ]
  },
  {
   "cell_type": "code",
   "execution_count": 31,
   "metadata": {},
   "outputs": [
    {
     "data": {
      "text/html": [
       "<div>\n",
       "<style scoped>\n",
       "    .dataframe tbody tr th:only-of-type {\n",
       "        vertical-align: middle;\n",
       "    }\n",
       "\n",
       "    .dataframe tbody tr th {\n",
       "        vertical-align: top;\n",
       "    }\n",
       "\n",
       "    .dataframe thead th {\n",
       "        text-align: right;\n",
       "    }\n",
       "</style>\n",
       "<table border=\"1\" class=\"dataframe\">\n",
       "  <thead>\n",
       "    <tr style=\"text-align: right;\">\n",
       "      <th></th>\n",
       "      <th>0.0</th>\n",
       "      <th>1.0</th>\n",
       "      <th>2.0</th>\n",
       "      <th>3.0</th>\n",
       "      <th>4.0</th>\n",
       "      <th>5.0</th>\n",
       "      <th>6.0</th>\n",
       "      <th>7.0</th>\n",
       "      <th>888.0</th>\n",
       "      <th>999.0</th>\n",
       "    </tr>\n",
       "  </thead>\n",
       "  <tbody>\n",
       "    <tr>\n",
       "      <th>F1201</th>\n",
       "      <td>NaN</td>\n",
       "      <td>54.0</td>\n",
       "      <td>64.0</td>\n",
       "      <td>252.0</td>\n",
       "      <td>765.0</td>\n",
       "      <td>542.0</td>\n",
       "      <td>NaN</td>\n",
       "      <td>NaN</td>\n",
       "      <td>NaN</td>\n",
       "      <td>NaN</td>\n",
       "    </tr>\n",
       "    <tr>\n",
       "      <th>F1202</th>\n",
       "      <td>NaN</td>\n",
       "      <td>67.0</td>\n",
       "      <td>249.0</td>\n",
       "      <td>317.0</td>\n",
       "      <td>508.0</td>\n",
       "      <td>145.0</td>\n",
       "      <td>NaN</td>\n",
       "      <td>NaN</td>\n",
       "      <td>NaN</td>\n",
       "      <td>NaN</td>\n",
       "    </tr>\n",
       "    <tr>\n",
       "      <th>F1203</th>\n",
       "      <td>NaN</td>\n",
       "      <td>57.0</td>\n",
       "      <td>18.0</td>\n",
       "      <td>31.0</td>\n",
       "      <td>51.0</td>\n",
       "      <td>31.0</td>\n",
       "      <td>NaN</td>\n",
       "      <td>NaN</td>\n",
       "      <td>NaN</td>\n",
       "      <td>NaN</td>\n",
       "    </tr>\n",
       "    <tr>\n",
       "      <th>F1204</th>\n",
       "      <td>NaN</td>\n",
       "      <td>111.0</td>\n",
       "      <td>570.0</td>\n",
       "      <td>550.0</td>\n",
       "      <td>441.0</td>\n",
       "      <td>125.0</td>\n",
       "      <td>NaN</td>\n",
       "      <td>NaN</td>\n",
       "      <td>NaN</td>\n",
       "      <td>NaN</td>\n",
       "    </tr>\n",
       "    <tr>\n",
       "      <th>F1205</th>\n",
       "      <td>NaN</td>\n",
       "      <td>28.0</td>\n",
       "      <td>311.0</td>\n",
       "      <td>554.0</td>\n",
       "      <td>991.0</td>\n",
       "      <td>411.0</td>\n",
       "      <td>NaN</td>\n",
       "      <td>NaN</td>\n",
       "      <td>NaN</td>\n",
       "      <td>NaN</td>\n",
       "    </tr>\n",
       "    <tr>\n",
       "      <th>F1206</th>\n",
       "      <td>NaN</td>\n",
       "      <td>87.0</td>\n",
       "      <td>375.0</td>\n",
       "      <td>280.0</td>\n",
       "      <td>746.0</td>\n",
       "      <td>576.0</td>\n",
       "      <td>NaN</td>\n",
       "      <td>NaN</td>\n",
       "      <td>NaN</td>\n",
       "      <td>NaN</td>\n",
       "    </tr>\n",
       "  </tbody>\n",
       "</table>\n",
       "</div>"
      ],
      "text/plain": [
       "       0.0    1.0    2.0    3.0    4.0    5.0    6.0    7.0    888.0  999.0\n",
       "F1201    NaN   54.0   64.0  252.0  765.0  542.0    NaN    NaN    NaN    NaN\n",
       "F1202    NaN   67.0  249.0  317.0  508.0  145.0    NaN    NaN    NaN    NaN\n",
       "F1203    NaN   57.0   18.0   31.0   51.0   31.0    NaN    NaN    NaN    NaN\n",
       "F1204    NaN  111.0  570.0  550.0  441.0  125.0    NaN    NaN    NaN    NaN\n",
       "F1205    NaN   28.0  311.0  554.0  991.0  411.0    NaN    NaN    NaN    NaN\n",
       "F1206    NaN   87.0  375.0  280.0  746.0  576.0    NaN    NaN    NaN    NaN"
      ]
     },
     "execution_count": 31,
     "metadata": {},
     "output_type": "execute_result"
    }
   ],
   "source": [
    "# Plot another question with subquestions which could be relevant for our target question: \n",
    "df_counts.loc[['F1201', 'F1202', 'F1203', 'F1204', 'F1205', 'F1206']]"
   ]
  },
  {
   "cell_type": "code",
   "execution_count": 32,
   "metadata": {
    "tags": []
   },
   "outputs": [
    {
     "data": {
      "text/html": [
       "<div>\n",
       "<style scoped>\n",
       "    .dataframe tbody tr th:only-of-type {\n",
       "        vertical-align: middle;\n",
       "    }\n",
       "\n",
       "    .dataframe tbody tr th {\n",
       "        vertical-align: top;\n",
       "    }\n",
       "\n",
       "    .dataframe thead th {\n",
       "        text-align: right;\n",
       "    }\n",
       "</style>\n",
       "<table border=\"1\" class=\"dataframe\">\n",
       "  <thead>\n",
       "    <tr style=\"text-align: right;\">\n",
       "      <th></th>\n",
       "      <th>1.0</th>\n",
       "      <th>2.0</th>\n",
       "      <th>3.0</th>\n",
       "      <th>4.0</th>\n",
       "      <th>5.0</th>\n",
       "    </tr>\n",
       "  </thead>\n",
       "  <tbody>\n",
       "    <tr>\n",
       "      <th>F1201</th>\n",
       "      <td>54.0</td>\n",
       "      <td>64.0</td>\n",
       "      <td>252.0</td>\n",
       "      <td>765.0</td>\n",
       "      <td>542.0</td>\n",
       "    </tr>\n",
       "    <tr>\n",
       "      <th>F1202</th>\n",
       "      <td>67.0</td>\n",
       "      <td>249.0</td>\n",
       "      <td>317.0</td>\n",
       "      <td>508.0</td>\n",
       "      <td>145.0</td>\n",
       "    </tr>\n",
       "    <tr>\n",
       "      <th>F1203</th>\n",
       "      <td>57.0</td>\n",
       "      <td>18.0</td>\n",
       "      <td>31.0</td>\n",
       "      <td>51.0</td>\n",
       "      <td>31.0</td>\n",
       "    </tr>\n",
       "    <tr>\n",
       "      <th>F1204</th>\n",
       "      <td>111.0</td>\n",
       "      <td>570.0</td>\n",
       "      <td>550.0</td>\n",
       "      <td>441.0</td>\n",
       "      <td>125.0</td>\n",
       "    </tr>\n",
       "    <tr>\n",
       "      <th>F1205</th>\n",
       "      <td>28.0</td>\n",
       "      <td>311.0</td>\n",
       "      <td>554.0</td>\n",
       "      <td>991.0</td>\n",
       "      <td>411.0</td>\n",
       "    </tr>\n",
       "    <tr>\n",
       "      <th>F1206</th>\n",
       "      <td>87.0</td>\n",
       "      <td>375.0</td>\n",
       "      <td>280.0</td>\n",
       "      <td>746.0</td>\n",
       "      <td>576.0</td>\n",
       "    </tr>\n",
       "  </tbody>\n",
       "</table>\n",
       "</div>"
      ],
      "text/plain": [
       "         1.0    2.0    3.0    4.0    5.0\n",
       "F1201   54.0   64.0  252.0  765.0  542.0\n",
       "F1202   67.0  249.0  317.0  508.0  145.0\n",
       "F1203   57.0   18.0   31.0   51.0   31.0\n",
       "F1204  111.0  570.0  550.0  441.0  125.0\n",
       "F1205   28.0  311.0  554.0  991.0  411.0\n",
       "F1206   87.0  375.0  280.0  746.0  576.0"
      ]
     },
     "execution_count": 32,
     "metadata": {},
     "output_type": "execute_result"
    }
   ],
   "source": [
    "# Remove all the redundant rows\n",
    "F12_df = df_counts.loc[['F1201', 'F1202', 'F1203', 'F1204', 'F1205', 'F1206']].drop(columns=[0.0, 6.0, 7.0, 888.0, 999.0])\n",
    "F12_df"
   ]
  },
  {
   "cell_type": "code",
   "execution_count": 33,
   "metadata": {},
   "outputs": [
    {
     "data": {
      "image/png": "[encoded data removed]",
      "text/plain": [
       "<Figure size 640x480 with 1 Axes>"
      ]
     },
     "metadata": {},
     "output_type": "display_data"
    }
   ],
   "source": [
    "# Grouped bar plot for the questions about contacts\n",
    "F12_df.T.plot.bar()\n",
    "\n",
    "# Change the x axis values:\n",
    "plt.xticks(\n",
    "    np.arange(5), \n",
    "    ['Never','Less often','At least once a month','At least once a week','Daily or almost daily'], \n",
    "    rotation=30, \n",
    "    ha='right'\n",
    ")\n",
    "# Add legend and put outside:\n",
    "plt.legend(['Own children', 'Grandchildren', 'Parents', 'Siblings or other family members', 'Friends', 'Neighbors'], bbox_to_anchor=(1, 1))\n",
    "# Add title:\n",
    "plt.title('How often do you have contact with the following people?')\n",
    "plt.show()"
   ]
  },
  {
   "cell_type": "markdown",
   "metadata": {},
   "source": [
    "**Observation:** a good amount of participatns have regular contact with relatives or friends. However, it is not visible if these are the same participants and some may be very isoltated."
   ]
  },
  {
   "cell_type": "markdown",
   "metadata": {},
   "source": [
    "**Relation between the features and the target**"
   ]
  },
  {
   "cell_type": "code",
   "execution_count": 34,
   "metadata": {},
   "outputs": [
    {
     "data": {
      "text/html": [
       "<div>\n",
       "<style scoped>\n",
       "    .dataframe tbody tr th:only-of-type {\n",
       "        vertical-align: middle;\n",
       "    }\n",
       "\n",
       "    .dataframe tbody tr th {\n",
       "        vertical-align: top;\n",
       "    }\n",
       "\n",
       "    .dataframe thead th {\n",
       "        text-align: right;\n",
       "    }\n",
       "</style>\n",
       "<table border=\"1\" class=\"dataframe\">\n",
       "  <thead>\n",
       "    <tr style=\"text-align: right;\">\n",
       "      <th></th>\n",
       "      <th>F1201</th>\n",
       "      <th>F1202</th>\n",
       "      <th>F1203</th>\n",
       "      <th>F1204</th>\n",
       "      <th>F1205</th>\n",
       "      <th>F1206</th>\n",
       "    </tr>\n",
       "    <tr>\n",
       "      <th>F15</th>\n",
       "      <th></th>\n",
       "      <th></th>\n",
       "      <th></th>\n",
       "      <th></th>\n",
       "      <th></th>\n",
       "      <th></th>\n",
       "    </tr>\n",
       "  </thead>\n",
       "  <tbody>\n",
       "    <tr>\n",
       "      <th>1.0</th>\n",
       "      <td>4.025853</td>\n",
       "      <td>3.419703</td>\n",
       "      <td>2.928571</td>\n",
       "      <td>2.976482</td>\n",
       "      <td>3.721929</td>\n",
       "      <td>3.796787</td>\n",
       "    </tr>\n",
       "    <tr>\n",
       "      <th>2.0</th>\n",
       "      <td>4.010256</td>\n",
       "      <td>3.235556</td>\n",
       "      <td>3.000000</td>\n",
       "      <td>2.938538</td>\n",
       "      <td>3.559343</td>\n",
       "      <td>3.479290</td>\n",
       "    </tr>\n",
       "    <tr>\n",
       "      <th>3.0</th>\n",
       "      <td>3.777778</td>\n",
       "      <td>2.980392</td>\n",
       "      <td>2.000000</td>\n",
       "      <td>2.727273</td>\n",
       "      <td>3.223404</td>\n",
       "      <td>3.297297</td>\n",
       "    </tr>\n",
       "    <tr>\n",
       "      <th>4.0</th>\n",
       "      <td>3.647059</td>\n",
       "      <td>2.923077</td>\n",
       "      <td>2.333333</td>\n",
       "      <td>2.437500</td>\n",
       "      <td>2.820513</td>\n",
       "      <td>2.709677</td>\n",
       "    </tr>\n",
       "  </tbody>\n",
       "</table>\n",
       "</div>"
      ],
      "text/plain": [
       "        F1201     F1202     F1203     F1204     F1205     F1206\n",
       "F15                                                            \n",
       "1.0  4.025853  3.419703  2.928571  2.976482  3.721929  3.796787\n",
       "2.0  4.010256  3.235556  3.000000  2.938538  3.559343  3.479290\n",
       "3.0  3.777778  2.980392  2.000000  2.727273  3.223404  3.297297\n",
       "4.0  3.647059  2.923077  2.333333  2.437500  2.820513  2.709677"
      ]
     },
     "execution_count": 34,
     "metadata": {},
     "output_type": "execute_result"
    }
   ],
   "source": [
    "# Group by the target value and taking the mean per category:\n",
    "grouped_contacts = selection_df[['F15', 'F1201', 'F1202', 'F1203', 'F1204', 'F1205', 'F1206']].groupby('F15').mean()\n",
    "grouped_contacts"
   ]
  },
  {
   "cell_type": "code",
   "execution_count": 35,
   "metadata": {},
   "outputs": [
    {
     "name": "stdout",
     "output_type": "stream",
     "text": [
      "['Nie', 'Manchmal', 'Ziemlich häufig', 'Sehr häufig']\n"
     ]
    }
   ],
   "source": [
    "# Get all answers for question F15:\n",
    "output_F15 = []\n",
    "for item in selection_df['F15'].value_counts().index:\n",
    "    v = look_up_answer_value('F15', item)\n",
    "    output_F15.append(v)\n",
    "    \n",
    "print(output_F15)"
   ]
  },
  {
   "cell_type": "code",
   "execution_count": 36,
   "metadata": {},
   "outputs": [
    {
     "data": {
      "image/png": "[encoded data removed]",
      "text/plain": [
       "<Figure size 640x480 with 1 Axes>"
      ]
     },
     "metadata": {},
     "output_type": "display_data"
    }
   ],
   "source": [
    "# Plot the mean of having contact with the different social groups by the scale of feeling lonely:\n",
    "\n",
    "# Stacked bar plot:\n",
    "grouped_contacts.plot.bar(cmap='plasma')\n",
    "# Change the x axis values:\n",
    "plt.xticks(\n",
    "   np.arange(4), \n",
    "   output_F15, \n",
    "   rotation=20)\n",
    "plt.xlabel('Feeling lonely')\n",
    "# Add legend and put outside:\n",
    "plt.legend(['Own children', 'Grandchildren', 'Parents', 'Siblings or other family members', 'Friends', 'Neighbors'], bbox_to_anchor=(1, 1))\n",
    "# Add title:\n",
    "plt.title('Social contact frequency & scale of feeling lonely')\n",
    "plt.show()"
   ]
  },
  {
   "cell_type": "markdown",
   "metadata": {},
   "source": [
    "**Observation:** There is a trend of having less contacts and feeling lonely. Most of the contacts people have are their childreen."
   ]
  },
  {
   "cell_type": "code",
   "execution_count": 37,
   "metadata": {},
   "outputs": [
    {
     "data": {
      "text/html": [
       "<div>\n",
       "<style scoped>\n",
       "    .dataframe tbody tr th:only-of-type {\n",
       "        vertical-align: middle;\n",
       "    }\n",
       "\n",
       "    .dataframe tbody tr th {\n",
       "        vertical-align: top;\n",
       "    }\n",
       "\n",
       "    .dataframe thead th {\n",
       "        text-align: right;\n",
       "    }\n",
       "</style>\n",
       "<table border=\"1\" class=\"dataframe\">\n",
       "  <thead>\n",
       "    <tr style=\"text-align: right;\">\n",
       "      <th></th>\n",
       "      <th>0.0</th>\n",
       "      <th>1.0</th>\n",
       "      <th>2.0</th>\n",
       "      <th>3.0</th>\n",
       "      <th>4.0</th>\n",
       "      <th>5.0</th>\n",
       "      <th>6.0</th>\n",
       "      <th>7.0</th>\n",
       "      <th>888.0</th>\n",
       "      <th>999.0</th>\n",
       "    </tr>\n",
       "  </thead>\n",
       "  <tbody>\n",
       "    <tr>\n",
       "      <th>F21</th>\n",
       "      <td>NaN</td>\n",
       "      <td>53.0</td>\n",
       "      <td>308.0</td>\n",
       "      <td>1258.0</td>\n",
       "      <td>789.0</td>\n",
       "      <td>NaN</td>\n",
       "      <td>NaN</td>\n",
       "      <td>NaN</td>\n",
       "      <td>NaN</td>\n",
       "      <td>NaN</td>\n",
       "    </tr>\n",
       "    <tr>\n",
       "      <th>F15</th>\n",
       "      <td>NaN</td>\n",
       "      <td>1390.0</td>\n",
       "      <td>848.0</td>\n",
       "      <td>103.0</td>\n",
       "      <td>50.0</td>\n",
       "      <td>NaN</td>\n",
       "      <td>NaN</td>\n",
       "      <td>NaN</td>\n",
       "      <td>NaN</td>\n",
       "      <td>NaN</td>\n",
       "    </tr>\n",
       "  </tbody>\n",
       "</table>\n",
       "</div>"
      ],
      "text/plain": [
       "     0.0     1.0    2.0     3.0    4.0    5.0    6.0    7.0    888.0  999.0\n",
       "F21    NaN    53.0  308.0  1258.0  789.0    NaN    NaN    NaN    NaN    NaN\n",
       "F15    NaN  1390.0  848.0   103.0   50.0    NaN    NaN    NaN    NaN    NaN"
      ]
     },
     "execution_count": 37,
     "metadata": {},
     "output_type": "execute_result"
    }
   ],
   "source": [
    "# I chose as a comparable question the question 21 which is about the health status:\n",
    "df_counts.loc[['F21', 'F15']]"
   ]
  },
  {
   "cell_type": "code",
   "execution_count": 38,
   "metadata": {},
   "outputs": [],
   "source": [
    "# I drop the columns which have no values:\n",
    "F21_F15_df = df_counts.loc[['F21', 'F15']].drop(columns=[0.0, 5.0, 6.0, 7.0, 888.0, 999.0])"
   ]
  },
  {
   "cell_type": "code",
   "execution_count": 67,
   "metadata": {},
   "outputs": [
    {
     "data": {
      "image/png": "[encoded data removed]",
      "text/plain": [
       "<Figure size 640x480 with 1 Axes>"
      ]
     },
     "metadata": {},
     "output_type": "display_data"
    }
   ],
   "source": [
    "# Create a stacked bar plot of the two questions:\n",
    "F21_F15_df.plot.barh(stacked=True, cmap='viridis')\n",
    "\n",
    "plt.legend(['Very often - Not good', 'Quite often - Rather not good', 'Sometimes - Rather good', 'Never - Very good'], bbox_to_anchor=(1, 1))\n",
    "plt.yticks(\n",
    "    np.arange(2), \n",
    "    ['How often do you feel lonely?', 'How are you feeling health-wise at the moment?'])\n",
    "plt.title('Comparision of feeling healhty and lonely')\n",
    "\n",
    "plt.show()"
   ]
  },
  {
   "cell_type": "code",
   "execution_count": 40,
   "metadata": {},
   "outputs": [
    {
     "data": {
      "image/png": "[encoded data removed]",
      "text/plain": [
       "<Figure size 640x480 with 1 Axes>"
      ]
     },
     "metadata": {},
     "output_type": "display_data"
    }
   ],
   "source": [
    "# Create a grouped bar plot for the two questions:\n",
    "F21_F15_df.T.plot.bar(cmap='plasma')\n",
    "\n",
    "plt.xticks(\n",
    "    np.arange(4), \n",
    "    ['Very often - Not good', 'Quite often - Rather not good', 'Sometimes - Rather good', 'Never - Very good'], \n",
    "    rotation=30, \n",
    "    ha='right'\n",
    ")\n",
    "plt.legend(['How often do you feel lonely?', 'How are you feeling health-wise at the moment?'], bbox_to_anchor=(1, 1))\n",
    "plt.title('Comparision of feeling healthy and lonely')\n",
    "\n",
    "plt.show()"
   ]
  },
  {
   "cell_type": "code",
   "execution_count": 69,
   "metadata": {},
   "outputs": [
    {
     "data": {
      "image/png": "[encoded data removed]",
      "text/plain": [
       "<Figure size 640x480 with 1 Axes>"
      ]
     },
     "metadata": {},
     "output_type": "display_data"
    }
   ],
   "source": [
    "# Barplot of averaged loneliness & health satisfaction\n",
    "sns.barplot(data=selection_df, x='F21', y='F15', palette='plasma')\n",
    "\n",
    "plt.xticks(\n",
    "    np.arange(4), \n",
    "    ['Not good', 'Rather not good', 'Rather good', 'Very good'], \n",
    "    rotation=30, \n",
    "    ha='right'\n",
    ")\n",
    "plt.xlabel('Feeling healthy')\n",
    "plt.ylabel('Average loneliness')\n",
    "plt.title('Average loneliness by health satisfaction')\n",
    "plt.show()"
   ]
  },
  {
   "cell_type": "markdown",
   "metadata": {},
   "source": [
    "**Observation:** The grouped bar plot shows better the relationship than the stacked bar plot. We can see that many people feel lonely, however, most people feel good health-wise. It could be an inverse relation. However, the barplot does not well show a correlation. Therefore, I'll look at any correlation using a heat map:"
   ]
  },
  {
   "cell_type": "code",
   "execution_count": 70,
   "metadata": {},
   "outputs": [
    {
     "data": {
      "text/html": [
       "<div>\n",
       "<style scoped>\n",
       "    .dataframe tbody tr th:only-of-type {\n",
       "        vertical-align: middle;\n",
       "    }\n",
       "\n",
       "    .dataframe tbody tr th {\n",
       "        vertical-align: top;\n",
       "    }\n",
       "\n",
       "    .dataframe thead th {\n",
       "        text-align: right;\n",
       "    }\n",
       "</style>\n",
       "<table border=\"1\" class=\"dataframe\">\n",
       "  <thead>\n",
       "    <tr style=\"text-align: right;\">\n",
       "      <th>F21</th>\n",
       "      <th>1.0</th>\n",
       "      <th>2.0</th>\n",
       "      <th>3.0</th>\n",
       "      <th>4.0</th>\n",
       "    </tr>\n",
       "    <tr>\n",
       "      <th>F15</th>\n",
       "      <th></th>\n",
       "      <th></th>\n",
       "      <th></th>\n",
       "      <th></th>\n",
       "    </tr>\n",
       "  </thead>\n",
       "  <tbody>\n",
       "    <tr>\n",
       "      <th>1.0</th>\n",
       "      <td>12</td>\n",
       "      <td>103</td>\n",
       "      <td>666</td>\n",
       "      <td>591</td>\n",
       "    </tr>\n",
       "    <tr>\n",
       "      <th>2.0</th>\n",
       "      <td>21</td>\n",
       "      <td>142</td>\n",
       "      <td>498</td>\n",
       "      <td>172</td>\n",
       "    </tr>\n",
       "    <tr>\n",
       "      <th>3.0</th>\n",
       "      <td>7</td>\n",
       "      <td>41</td>\n",
       "      <td>45</td>\n",
       "      <td>9</td>\n",
       "    </tr>\n",
       "    <tr>\n",
       "      <th>4.0</th>\n",
       "      <td>12</td>\n",
       "      <td>18</td>\n",
       "      <td>15</td>\n",
       "      <td>4</td>\n",
       "    </tr>\n",
       "  </tbody>\n",
       "</table>\n",
       "</div>"
      ],
      "text/plain": [
       "F21  1.0  2.0  3.0  4.0\n",
       "F15                    \n",
       "1.0   12  103  666  591\n",
       "2.0   21  142  498  172\n",
       "3.0    7   41   45    9\n",
       "4.0   12   18   15    4"
      ]
     },
     "execution_count": 70,
     "metadata": {},
     "output_type": "execute_result"
    }
   ],
   "source": [
    "# First, we need a correlation matrix:\n",
    "corr_F1_F15_nor = pd.crosstab(selection_df['F15'], selection_df['F21'], normalize='index')\n",
    "corr_F1_F15 = pd.crosstab(selection_df['F15'], selection_df['F21'])\n",
    "corr_F1_F15"
   ]
  },
  {
   "cell_type": "code",
   "execution_count": 71,
   "metadata": {},
   "outputs": [
    {
     "data": {
      "image/png": "[encoded data removed]",
      "text/plain": [
       "<Figure size 1000x600 with 4 Axes>"
      ]
     },
     "metadata": {},
     "output_type": "display_data"
    }
   ],
   "source": [
    "# Create a heatmap of the counts and explicit numbers:\n",
    "fig, ax = plt.subplots(ncols=2, nrows=1, figsize=(10,6))\n",
    "\n",
    "sns.heatmap(corr_F1_F15, ax=ax[0])\n",
    "sns.heatmap(corr_F1_F15_nor, ax=ax[1])\n",
    "fig.suptitle('Heatmap of correlation between feeling lonely and health status') \n",
    "ax[0].set_title('Correlation in explicit numbers', fontsize=10)\n",
    "ax[1].set_title('Correlation in percentage', fontsize=10)\n",
    "\n",
    "plt.show()"
   ]
  },
  {
   "cell_type": "markdown",
   "metadata": {},
   "source": [
    "**Observation:** It shows that people who are feeling quite healthy also feel rather lonely. This is something to look at more in detail later. "
   ]
  },
  {
   "cell_type": "markdown",
   "metadata": {},
   "source": [
    "**Relation between the target variable and a binary encoded question:**"
   ]
  },
  {
   "cell_type": "code",
   "execution_count": 72,
   "metadata": {},
   "outputs": [
    {
     "data": {
      "text/plain": [
       "2.0      1909\n",
       "1.0       253\n",
       "999.0      12\n",
       "888.0       4\n",
       "Name: F16, dtype: int64"
      ]
     },
     "execution_count": 72,
     "metadata": {},
     "output_type": "execute_result"
    }
   ],
   "source": [
    "# Analyse the question about pets and feeling lonely:\n",
    "selection_df['F16'].value_counts()"
   ]
  },
  {
   "cell_type": "code",
   "execution_count": 73,
   "metadata": {},
   "outputs": [
    {
     "data": {
      "text/plain": [
       "271"
      ]
     },
     "execution_count": 73,
     "metadata": {},
     "output_type": "execute_result"
    }
   ],
   "source": [
    "# Check NAs\n",
    "selection_df['F16'].isna().sum()"
   ]
  },
  {
   "cell_type": "markdown",
   "metadata": {},
   "source": [
    "**Observation:** there are quite some NA's. For the moment, I keep the data like this. Later I'd impute these values. I remove the two categories of not knowing or no answer, since there are only a few cases."
   ]
  },
  {
   "cell_type": "code",
   "execution_count": 74,
   "metadata": {},
   "outputs": [
    {
     "data": {
      "text/plain": [
       "2.0    1909\n",
       "1.0     253\n",
       "Name: F16, dtype: int64"
      ]
     },
     "execution_count": 74,
     "metadata": {},
     "output_type": "execute_result"
    }
   ],
   "source": [
    "# Remove the 16 cases about not knowing/no answer (999.& 888)\n",
    "\n",
    "F16_df_drop = selection_df.drop(selection_df[(selection_df['F16'] == 999.0) |  (selection_df['F16'] == 888.0)].index)\n",
    "F16_df_drop['F16'].value_counts()"
   ]
  },
  {
   "cell_type": "code",
   "execution_count": 75,
   "metadata": {},
   "outputs": [
    {
     "data": {
      "image/png": "[encoded data removed]",
      "text/plain": [
       "<Figure size 640x480 with 1 Axes>"
      ]
     },
     "metadata": {},
     "output_type": "display_data"
    }
   ],
   "source": [
    "# Use seaborn to plot a barplot\n",
    "sns.countplot(data=F16_df_drop, x='F21', hue='F16', palette='Spectral')\n",
    "\n",
    "plt.legend(['Yes', 'No'])\n",
    "plt.title('Influence of having a pet ({}%) and loneliness'.format(round(253/(253 + 1909)*100),1))\n",
    "plt.show()"
   ]
  },
  {
   "cell_type": "markdown",
   "metadata": {},
   "source": [
    "**Observation:** Only 12% of the participants have a pet and the distribution amongst the different categories of feeling lonely is rather identical."
   ]
  },
  {
   "cell_type": "code",
   "execution_count": 76,
   "metadata": {},
   "outputs": [
    {
     "data": {
      "text/plain": [
       "0       2\n",
       "1       1\n",
       "2       1\n",
       "3       1\n",
       "4       4\n",
       "       ..\n",
       "2444    1\n",
       "2445    1\n",
       "2446    1\n",
       "2447    1\n",
       "2448    7\n",
       "Name: F03, Length: 2433, dtype: int64"
      ]
     },
     "execution_count": 76,
     "metadata": {},
     "output_type": "execute_result"
    }
   ],
   "source": [
    "# Using the same dataframe with the excluded NaN's, analysing how the living form and owning a pet relate:\n",
    "F16_df_drop['F03']"
   ]
  },
  {
   "cell_type": "code",
   "execution_count": 77,
   "metadata": {},
   "outputs": [
    {
     "data": {
      "text/html": [
       "<div>\n",
       "<style scoped>\n",
       "    .dataframe tbody tr th:only-of-type {\n",
       "        vertical-align: middle;\n",
       "    }\n",
       "\n",
       "    .dataframe tbody tr th {\n",
       "        vertical-align: top;\n",
       "    }\n",
       "\n",
       "    .dataframe thead th {\n",
       "        text-align: right;\n",
       "    }\n",
       "</style>\n",
       "<table border=\"1\" class=\"dataframe\">\n",
       "  <thead>\n",
       "    <tr style=\"text-align: right;\">\n",
       "      <th>F16</th>\n",
       "      <th>1.0</th>\n",
       "      <th>2.0</th>\n",
       "    </tr>\n",
       "    <tr>\n",
       "      <th>F03</th>\n",
       "      <th></th>\n",
       "      <th></th>\n",
       "    </tr>\n",
       "  </thead>\n",
       "  <tbody>\n",
       "    <tr>\n",
       "      <th>1</th>\n",
       "      <td>0.115634</td>\n",
       "      <td>0.884366</td>\n",
       "    </tr>\n",
       "    <tr>\n",
       "      <th>2</th>\n",
       "      <td>0.097996</td>\n",
       "      <td>0.902004</td>\n",
       "    </tr>\n",
       "    <tr>\n",
       "      <th>3</th>\n",
       "      <td>0.192308</td>\n",
       "      <td>0.807692</td>\n",
       "    </tr>\n",
       "    <tr>\n",
       "      <th>4</th>\n",
       "      <td>0.126623</td>\n",
       "      <td>0.873377</td>\n",
       "    </tr>\n",
       "    <tr>\n",
       "      <th>5</th>\n",
       "      <td>0.197674</td>\n",
       "      <td>0.802326</td>\n",
       "    </tr>\n",
       "    <tr>\n",
       "      <th>6</th>\n",
       "      <td>0.039216</td>\n",
       "      <td>0.960784</td>\n",
       "    </tr>\n",
       "    <tr>\n",
       "      <th>999</th>\n",
       "      <td>0.083333</td>\n",
       "      <td>0.916667</td>\n",
       "    </tr>\n",
       "  </tbody>\n",
       "</table>\n",
       "</div>"
      ],
      "text/plain": [
       "F16       1.0       2.0\n",
       "F03                    \n",
       "1    0.115634  0.884366\n",
       "2    0.097996  0.902004\n",
       "3    0.192308  0.807692\n",
       "4    0.126623  0.873377\n",
       "5    0.197674  0.802326\n",
       "6    0.039216  0.960784\n",
       "999  0.083333  0.916667"
      ]
     },
     "execution_count": 77,
     "metadata": {},
     "output_type": "execute_result"
    }
   ],
   "source": [
    "# Create a crosstab:\n",
    "cross_pet_living = pd.crosstab(F16_df_drop['F03'], F16_df_drop['F16'], normalize='index')\n",
    "cross_pet_living"
   ]
  },
  {
   "cell_type": "code",
   "execution_count": 78,
   "metadata": {},
   "outputs": [
    {
     "data": {
      "image/png": "[encoded data removed]",
      "text/plain": [
       "<Figure size 640x480 with 2 Axes>"
      ]
     },
     "metadata": {},
     "output_type": "display_data"
    }
   ],
   "source": [
    "sns.heatmap(cross_pet_living)\n",
    "\n",
    "plt.xticks(range(2), ['Yes', 'No'], ha='left')\n",
    "plt.title('Influence of living situation and having a pet')\n",
    "plt.show()"
   ]
  },
  {
   "cell_type": "markdown",
   "metadata": {},
   "source": [
    "**Observation:** The correlation is very similar across all the different living situations, however, living in a house has a higher correlation (3 & 5)."
   ]
  },
  {
   "cell_type": "markdown",
   "metadata": {},
   "source": [
    "**Target variable and gender:**"
   ]
  },
  {
   "cell_type": "code",
   "execution_count": 79,
   "metadata": {},
   "outputs": [
    {
     "data": {
      "image/png": "[encoded data removed]",
      "text/plain": [
       "<Figure size 640x480 with 1 Axes>"
      ]
     },
     "metadata": {},
     "output_type": "display_data"
    }
   ],
   "source": [
    "# Use seaborn to plot a barplot\n",
    "sns.countplot(data=selection_df, x=\"F15\", hue=\"K_GESCHLECHT\", palette=\"icefire\")\n",
    "\n",
    "plt.title(\"Influence of gender and loneliness\")\n",
    "plt.xlabel(\"Loneliness\")\n",
    "plt.xticks(\n",
    "    np.arange(4), [\"Very often\", \"Quite often\", \"Sometimes\", \"Never\"], rotation=20\n",
    ")\n",
    "plt.legend([\"Men\", \"Women\"])\n",
    "plt.show()"
   ]
  },
  {
   "cell_type": "code",
   "execution_count": 80,
   "metadata": {},
   "outputs": [
    {
     "data": {
      "text/html": [
       "<div>\n",
       "<style scoped>\n",
       "    .dataframe tbody tr th:only-of-type {\n",
       "        vertical-align: middle;\n",
       "    }\n",
       "\n",
       "    .dataframe tbody tr th {\n",
       "        vertical-align: top;\n",
       "    }\n",
       "\n",
       "    .dataframe thead th {\n",
       "        text-align: right;\n",
       "    }\n",
       "</style>\n",
       "<table border=\"1\" class=\"dataframe\">\n",
       "  <thead>\n",
       "    <tr style=\"text-align: right;\">\n",
       "      <th>K_GESCHLECHT</th>\n",
       "      <th>1</th>\n",
       "      <th>2</th>\n",
       "    </tr>\n",
       "    <tr>\n",
       "      <th>F15</th>\n",
       "      <th></th>\n",
       "      <th></th>\n",
       "    </tr>\n",
       "  </thead>\n",
       "  <tbody>\n",
       "    <tr>\n",
       "      <th>1.0</th>\n",
       "      <td>0.478417</td>\n",
       "      <td>0.521583</td>\n",
       "    </tr>\n",
       "    <tr>\n",
       "      <th>2.0</th>\n",
       "      <td>0.325472</td>\n",
       "      <td>0.674528</td>\n",
       "    </tr>\n",
       "    <tr>\n",
       "      <th>3.0</th>\n",
       "      <td>0.291262</td>\n",
       "      <td>0.708738</td>\n",
       "    </tr>\n",
       "    <tr>\n",
       "      <th>4.0</th>\n",
       "      <td>0.260000</td>\n",
       "      <td>0.740000</td>\n",
       "    </tr>\n",
       "  </tbody>\n",
       "</table>\n",
       "</div>"
      ],
      "text/plain": [
       "K_GESCHLECHT         1         2\n",
       "F15                             \n",
       "1.0           0.478417  0.521583\n",
       "2.0           0.325472  0.674528\n",
       "3.0           0.291262  0.708738\n",
       "4.0           0.260000  0.740000"
      ]
     },
     "execution_count": 80,
     "metadata": {},
     "output_type": "execute_result"
    }
   ],
   "source": [
    "pd.crosstab(selection_df['F15'], selection_df['K_GESCHLECHT'], normalize='index')"
   ]
  },
  {
   "cell_type": "markdown",
   "metadata": {},
   "source": [
    "Check the overall correlation of columns with the target variable:"
   ]
  },
  {
   "cell_type": "code",
   "execution_count": 81,
   "metadata": {},
   "outputs": [
    {
     "data": {
      "text/html": [
       "<div>\n",
       "<style scoped>\n",
       "    .dataframe tbody tr th:only-of-type {\n",
       "        vertical-align: middle;\n",
       "    }\n",
       "\n",
       "    .dataframe tbody tr th {\n",
       "        vertical-align: top;\n",
       "    }\n",
       "\n",
       "    .dataframe thead th {\n",
       "        text-align: right;\n",
       "    }\n",
       "</style>\n",
       "<table border=\"1\" class=\"dataframe\">\n",
       "  <thead>\n",
       "    <tr style=\"text-align: right;\">\n",
       "      <th></th>\n",
       "      <th>0</th>\n",
       "    </tr>\n",
       "  </thead>\n",
       "  <tbody>\n",
       "    <tr>\n",
       "      <th>F01</th>\n",
       "      <td>0.007284</td>\n",
       "    </tr>\n",
       "    <tr>\n",
       "      <th>F03</th>\n",
       "      <td>0.014496</td>\n",
       "    </tr>\n",
       "    <tr>\n",
       "      <th>F0701</th>\n",
       "      <td>-0.115953</td>\n",
       "    </tr>\n",
       "    <tr>\n",
       "      <th>F0702</th>\n",
       "      <td>-0.026318</td>\n",
       "    </tr>\n",
       "    <tr>\n",
       "      <th>F0703</th>\n",
       "      <td>-0.085227</td>\n",
       "    </tr>\n",
       "    <tr>\n",
       "      <th>...</th>\n",
       "      <td>...</td>\n",
       "    </tr>\n",
       "    <tr>\n",
       "      <th>F3707</th>\n",
       "      <td>-0.155534</td>\n",
       "    </tr>\n",
       "    <tr>\n",
       "      <th>F3708</th>\n",
       "      <td>-0.130696</td>\n",
       "    </tr>\n",
       "    <tr>\n",
       "      <th>F3709</th>\n",
       "      <td>-0.047307</td>\n",
       "    </tr>\n",
       "    <tr>\n",
       "      <th>T_S0203</th>\n",
       "      <td>0.066499</td>\n",
       "    </tr>\n",
       "    <tr>\n",
       "      <th>K_GESCHLECHT</th>\n",
       "      <td>0.150729</td>\n",
       "    </tr>\n",
       "  </tbody>\n",
       "</table>\n",
       "<p>79 rows × 1 columns</p>\n",
       "</div>"
      ],
      "text/plain": [
       "                     0\n",
       "F01           0.007284\n",
       "F03           0.014496\n",
       "F0701        -0.115953\n",
       "F0702        -0.026318\n",
       "F0703        -0.085227\n",
       "...                ...\n",
       "F3707        -0.155534\n",
       "F3708        -0.130696\n",
       "F3709        -0.047307\n",
       "T_S0203       0.066499\n",
       "K_GESCHLECHT  0.150729\n",
       "\n",
       "[79 rows x 1 columns]"
      ]
     },
     "execution_count": 81,
     "metadata": {},
     "output_type": "execute_result"
    }
   ],
   "source": [
    "# Use the function corrwith to get the correlation factor:\n",
    "correlation_F15 = pd.DataFrame(selection_df.corrwith(selection_df['F15']))\n",
    "correlation_F15"
   ]
  },
  {
   "cell_type": "code",
   "execution_count": 82,
   "metadata": {},
   "outputs": [
    {
     "data": {
      "text/html": [
       "<div>\n",
       "<style scoped>\n",
       "    .dataframe tbody tr th:only-of-type {\n",
       "        vertical-align: middle;\n",
       "    }\n",
       "\n",
       "    .dataframe tbody tr th {\n",
       "        vertical-align: top;\n",
       "    }\n",
       "\n",
       "    .dataframe thead th {\n",
       "        text-align: right;\n",
       "    }\n",
       "</style>\n",
       "<table border=\"1\" class=\"dataframe\">\n",
       "  <thead>\n",
       "    <tr style=\"text-align: right;\">\n",
       "      <th></th>\n",
       "      <th>0</th>\n",
       "    </tr>\n",
       "  </thead>\n",
       "  <tbody>\n",
       "    <tr>\n",
       "      <th>F1301</th>\n",
       "      <td>0.149876</td>\n",
       "    </tr>\n",
       "    <tr>\n",
       "      <th>F1302</th>\n",
       "      <td>0.110724</td>\n",
       "    </tr>\n",
       "    <tr>\n",
       "      <th>F1303</th>\n",
       "      <td>0.210020</td>\n",
       "    </tr>\n",
       "    <tr>\n",
       "      <th>F1304</th>\n",
       "      <td>0.141432</td>\n",
       "    </tr>\n",
       "    <tr>\n",
       "      <th>F1305</th>\n",
       "      <td>0.117543</td>\n",
       "    </tr>\n",
       "    <tr>\n",
       "      <th>F15</th>\n",
       "      <td>1.000000</td>\n",
       "    </tr>\n",
       "    <tr>\n",
       "      <th>F17_1</th>\n",
       "      <td>0.373132</td>\n",
       "    </tr>\n",
       "    <tr>\n",
       "      <th>F17_2</th>\n",
       "      <td>0.206277</td>\n",
       "    </tr>\n",
       "    <tr>\n",
       "      <th>F17_3</th>\n",
       "      <td>0.147828</td>\n",
       "    </tr>\n",
       "    <tr>\n",
       "      <th>F17_4</th>\n",
       "      <td>0.131393</td>\n",
       "    </tr>\n",
       "    <tr>\n",
       "      <th>F19_1</th>\n",
       "      <td>0.183759</td>\n",
       "    </tr>\n",
       "    <tr>\n",
       "      <th>K_GESCHLECHT</th>\n",
       "      <td>0.150729</td>\n",
       "    </tr>\n",
       "  </tbody>\n",
       "</table>\n",
       "</div>"
      ],
      "text/plain": [
       "                     0\n",
       "F1301         0.149876\n",
       "F1302         0.110724\n",
       "F1303         0.210020\n",
       "F1304         0.141432\n",
       "F1305         0.117543\n",
       "F15           1.000000\n",
       "F17_1         0.373132\n",
       "F17_2         0.206277\n",
       "F17_3         0.147828\n",
       "F17_4         0.131393\n",
       "F19_1         0.183759\n",
       "K_GESCHLECHT  0.150729"
      ]
     },
     "execution_count": 82,
     "metadata": {},
     "output_type": "execute_result"
    }
   ],
   "source": [
    "correlation_F15[(correlation_F15[0] >= 0.10)]"
   ]
  },
  {
   "cell_type": "markdown",
   "metadata": {},
   "source": [
    "**Observation:** the highest correlation with the target variable have the questions 13 and 18, 19.1 and the sex. These need to be further analysed."
   ]
  },
  {
   "cell_type": "markdown",
   "metadata": {},
   "source": [
    "### (b) How does the EDA inform your project plan?"
   ]
  },
  {
   "cell_type": "markdown",
   "metadata": {},
   "source": [
    "**General:**\n",
    "- The features are all categorical with some of them being encoded as binary, some with up to 10 different categories. \n",
    "**Target:**\n",
    "- Features related to the social environment such as contacts show an influence on feeling less lonely. \n",
    "- A good health status showed some possible correlation with being alone but it is not very clear. \n",
    "- A lot of people feel lonely. This has to be taken into account for any training model in order to have an equal distributed training dataset. \n",
    "- It might be also a possibility to select the health-status as a target. "
   ]
  },
  {
   "cell_type": "markdown",
   "metadata": {},
   "source": [
    "### (c) What further EDA do you plan for project?"
   ]
  },
  {
   "cell_type": "markdown",
   "metadata": {},
   "source": [
    "1. I will address the NAs and replace them with an appropriate method as described above (imputation: first by simply using the mode, then with sklearn imputation package).\n",
    "2. I will visualise more of the questions with subquestions and check correlations with the question about loneliness and health-status. Especially for the questions 13 and 18 and 19.1, as the calculation showed the highest correlation. For this, I will use stacked bar plots with the mean value of each sub-question as the y-value and the scale of feeling lonely as the x-value. I will also show the correlation in a correlation table and heatmap. Also, I'll use a bar chart with x representing a given question and on the y-axis using the mean of a loneliness index. \n",
    "3. I will further look at the health status and see if there are is a better correlations to identify.\n",
    "4. Perform feature engineering:\n",
    "- First, I'll add features by combining questions for questions with sub-questions, for example how much support they receive or give, or all the questions about the use of digigtal tools could be combined as an digital index. \n",
    "- Second, I'll perform one-hot encoding to have every answer as a column for the future ML models. \n",
    "- Third, splitting the data into train, validation and test data. I'll split the data first into 80% training data and 20% test data. Out of the 80% training data, I'll use 20% as validation data. Given the unbalanced distribution of the data, I'd need to ensure that the training data includes a good representation of the different target values. This means, the traiings data may need to be adapted. \n",
    "- Lastly, I'll perform dimensional reduction by using PCA to visualise the high-dimension of the data set into a 2D plot for the regression, decision tree and random forest models. It could help reducing overfitting. To set the right number of features to use, I'll use a scree plot. \n"
   ]
  },
  {
   "cell_type": "markdown",
   "metadata": {},
   "source": [
    "## 4) Machine learning "
   ]
  },
  {
   "cell_type": "markdown",
   "metadata": {},
   "source": [
    "### (a) Phrase your project goal as a clear machine learning question"
   ]
  },
  {
   "cell_type": "markdown",
   "metadata": {},
   "source": [
    "The goal of my project is to predict on a scale from 1 (never) to 4 (very often) how lonely a person is given their lifestyle factors and socio-demographics (features of the dataset). "
   ]
  },
  {
   "cell_type": "markdown",
   "metadata": {},
   "source": [
    "\n",
    "- Identify and discuss suitable machine learning models, baselines, metrics and evaluation strategies\n",
    "- Tune the different models, analyze their performance\n",
    "- Discuss the results and potential trade-offs (complexity, interpretability, computational resources) using the appropriate terminology"
   ]
  },
  {
   "cell_type": "markdown",
   "metadata": {},
   "source": [
    "### (b) What models are you planning to use and why?"
   ]
  },
  {
   "cell_type": "markdown",
   "metadata": {},
   "source": [
    "- As a baseline model, I'll use the dummy classifier from sklearn with an uniform strategy because the data is imbalance. The uniform strategy will predict each category randomly. \n",
    "- First, I'd train a model with only a set of approx. 10 features (health status, social contacts, being satisfied with living situation) using an ordinal regression since the dependant variable is ordered. \n",
    "- Then, I'd add the entire selected features. \n",
    "- As a second model, I'd choose a decision tree model since the data set is categorical. I'd then compare if the random forest model gets a better results or if it overfits the data because of its complexity.\n",
    "- As a last model, I'd use a neural network to see if it can outperform the other models. I'd train it first with the selected features and then with all the features. "
   ]
  },
  {
   "cell_type": "markdown",
   "metadata": {},
   "source": [
    "### (c) Please tell us your detailed machine learning strategy "
   ]
  },
  {
   "cell_type": "markdown",
   "metadata": {},
   "source": [
    "- For the ordinal regression model, I'd use the statsmodel: https://www.statsmodels.org/stable/examples/notebooks/generated/ordinal_regression.html with the defaut 'logit' strategy and try probit to see if it gives more accurate results. \n",
    "- For the decision tree model, I'd tune the model depth and for the random forest the depth and the estimators to decide for the best values. \n",
    "- For the neural network, I'd use the keras model with one conv2D layer, one maxpooling 2d reduction and an output layer with softmax. Then I'd add more conv2D layers and maxpooling to see if performance improves (to avoid overfitting). \n",
    "\n",
    "- For the support vector machine, I'd use svm from sklearn and tune the regularisation parameter gamma and the coefficient C to avoid overfitting. I'd try different kernels other than the defaut 'rbf'. Also, I'd add class weights to address the imbalanced representation of the categories."
   ]
  },
  {
   "cell_type": "markdown",
   "metadata": {},
   "source": [
    "## 5) Additional information\n",
    "\n",
    "< If needed, discuss here any elements or approaches that do not fit with the above categories >"
   ]
  },
  {
   "cell_type": "markdown",
   "metadata": {},
   "source": []
  }
 ],
 "metadata": {
  "kernelspec": {
   "display_name": "Python [conda env:adsml] *",
   "language": "python",
   "name": "conda-env-adsml-py"
  },
  "language_info": {
   "codemirror_mode": {
    "name": "ipython",
    "version": 3
   },
   "file_extension": ".py",
   "mimetype": "text/x-python",
   "name": "python",
   "nbconvert_exporter": "python",
   "pygments_lexer": "ipython3",
   "version": "3.9.18"
  }
 },
 "nbformat": 4,
 "nbformat_minor": 4
}
